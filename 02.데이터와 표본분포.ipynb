{
 "cells": [
  {
   "cell_type": "markdown",
   "metadata": {},
   "source": [
    "빅데이터 시대가 되면서 더는 표본추출(표집,샘플링)이 필요 없을 거라고 오해하는 사람들이 많다. 하지만 데이터의 질과 적합성을 일정 수준 이상으로 담보할 수도 없으면서데이터 크기만 늘어나는 것이 오늘날 상황이다. 이런 상황에서 오히려 다양한 데이터를 효과적으로 다루고 데이터 편향을 최소화하기 위한 방법으로 표본추출의 필요성이 더 커지고 있다.\n",
    "\n",
    "![ㅇ](https://encrypted-tbn0.gstatic.com/images?q=tbn:ANd9GcQ4vBpKi6QryQxFJ45VnU4IZsfiS0-XA0VdYg&usqp=CAU)"
   ]
  },
  {
   "cell_type": "markdown",
   "metadata": {},
   "source": [
    "# 2-1 임의표본 추출과 표본편향"
   ]
  },
  {
   "cell_type": "markdown",
   "metadata": {},
   "source": [
    "<span style='background-color: #fff5b1'>표본</span>은 더 큰 데이터 집합으로부터 얻은 데이터의 부분집합이다. 통계학작들은 이 큰 데이터 집합을 모집단이라고 부른다. \n",
    "\n",
    "<span style='background-color: #fff5b1'>임의표본추출</span>은 대상이 되는 모집단 내의 선택 가능한 원소들을 무작위로 추출하는 과정을 말하며 각 추첨에서 모든 원소는 동일한 확률로 뽑힌다. 그 결과로 얻은 샘플을 단순임의표본이라고 한다. \n",
    "\n",
    "추첨 후 다음번에도 중복 추출이 가능하도록 해당 샘플을 다시 모집단에 포함시키는 ***복원 추출***(with replacement)로 표본을 얻을 수 있고, 합넙 뽑힌 원소는 추후 추첨에 사용하지 않는 ***비복원 추출***(without replacement)을 할 수도 있다.\n",
    "\n",
    "샘플 기반의 추정이나 모델링에서 데이터 품질은 데이터 양보다 더욱 중요하다. 데이터 과학에서 데이터 품질이란 ***완결성, 형식의 일관성, 깨끗함 및 각 데이터 값의 정확성***을 말한다. 통계는 여기에 ***대표성***(representativeness)라는 개념을 추가한다.\n",
    "\n",
    "##### [용어 정리]\n",
    "- 표본/Sample: 더 큰 데이터 집합으로부터 얻은 부분집합\n",
    "- 모집단/Population: 어떤 데이터 집합을 구성하는 전체 대상 혹은 전체 집합\n",
    "- N(n): 모집단(표본)의 크기\n",
    "- 임의표본추출(임의표집, 랜덤표본추출)/Random Sampling:무작위 표본 추출\n",
    "- 층화표본추출(층화표집)/Stratified Sampling: 모집단을 층으로 나눈 뒤 각 층에서 무작위로 표본을 추출 하는 것\n",
    "- 계층/Stratum: 공통된 특징을 가진 모집단의 동종 하위 그룹(복수형은 strata로 쓴다)\n",
    "- 단순임의표본(단순랜덤표본)/Simple Random Sample: 모집단 층화 없이 임의표본추출로 얻은 표본\n",
    "- 편향/Bias: 계통상의 오류\n",
    "- 표본편향/Sample Bias: 모집단을 잘못 대표하는 표본\n",
    "\n"
   ]
  },
  {
   "cell_type": "markdown",
   "metadata": {},
   "source": [
    "그 결과 표본편향이 발생했다. 원래 대표되도록 의도된 모집단으로부터 추출되지 않고 유의미한 비임의 방식으로 표본이 추출되는것이다. ***비임의***라는 용어는 매우 중요하다. 아무리 랜덤 표본이라고 해도 어떤 표본도 모집단을 정확하게 대표할 수 없다는 것을 의미한다.\n",
    "\n",
    "##### NOTE: 자기선택 표본 편향\n",
    "옐프(yelp)같은 소셜 미디어 사이트에서 보는 레스토랑, 호텔, 카페 등에 대한 리뷰는 이를 작성하는 사람들이 무작위로 선택되지 않았기 때문에 편향되기 쉽다. 오히려 작성자 스스로 리뷰 작성에 대한 주도권을 쥐고 있다. 이는 ***자기선택편향***으로 연결된다."
   ]
  },
  {
   "cell_type": "markdown",
   "metadata": {},
   "source": [
    "### 2-1-1 편향\n",
    "통계적 편향은 측정 과정 혹은 표본추출 과정에서 발생하는 계통적인 오차를 의미한다. 임의표본추출로 인한 오류와 편향에 따른 오류는 신중하게 구분해서 봐야한다.\n",
    "\n",
    "### 2-1-2 임의 선택\n",
    "표본편향 문제는 리터러리 다이제스트가 루스벨트가 아닌 랜던을 당선자로 예측하게 유도했다. 조지 갤럽(그림 2-4)은 이 문제를 피하면서 미국 유권자를 대표하는 표본을 얻기 이ㅜ해 좀 더 과학적으로 조사자를 선정하는 방법을 채택했다. 대표성을 담보하는 방법에는 여러 가지가 있지만 결국 핵심은 ***임의표본추출***이다.\n",
    "\n",
    "임의표본추출은 쉬운일이 아니다. 이를 잘하기 위해서는 접근 가능한 모집단을 적절하게 정의하는게 매우 중요하다. 고객의 대표 프로필을 만들 목적으로 파일럿 고객 설문 조사를 준비한다고 하자. \n",
    "\n",
    "***층화표본추출***에서는 모집단을 여러 층으로 나누고 각 층에서 무작위로 샘플을 추출한다. 정치 설문 단체에서 백인, 흑인, 라틴계 유권자들의 투표 성향을 조사한다고 하자. 모집단에서 취한 단순임의표본에서는 흑인과 라틴계 인구가 지역에 따라 너무 적게 나올 수 있다. 이런 경우 해당 층에 높은 가중치를 주는 표본추출을 통해 계층마다 동일한 표본 크기를 얻을수 있다."
   ]
  },
  {
   "cell_type": "markdown",
   "metadata": {},
   "source": [
    "### 2-1-3 크기의 품질: 크기는 언제 중요해질까?\n",
    "빅데이터 시대라고 해도 의외로 데이터 개수가 적을수록 더 유리한 경우가 있다. 임의표본추출에 시간과 노력을 기울일수록 편향이 줄 뿐만 아니라 데이터 탐색 및 데이터 품질에 더 집중할 수 있다. \n",
    "\n",
    "예를 들어 결측값이나 특잇값으로부터 유용한 정보를 얻을 수 있다. 몇백만 개 데이터 중에서 결측치를 추적하거나 특잇값을 평가하는 것은 어려울 수 있지만 수천 개의 샘플에서는 가능할 수 있다. 데이터가 너무 많을 경우, 데이터를 일일이 손으로 조사하고 검사하기는 매우 어렵다.\n",
    "\n",
    "### 2-1-4 표본평균과 모평균\n",
    "기호 $\\bar{x}$는 모집단의 표본평균을 나타내는데 사용되는 반면, $\\mu$는 모집단의 평균을 나타내는데 사용된다. 이 둘은 왜 따로 구분할까? 표본에 대한 정보는 관찰을 통해서 얻어지고, 모집단에 대한 정보는 주로작은 표본들로부터 추론한다. \n",
    "\n",
    "***주요 개념***\n",
    "- 빅데이터 시대에도 ***임의표본추출***은 데이터 과학자들의 화살통에 남은 중요한 화살이다.\n",
    "- ***편향***은 측정이나 관측에 계통적 오차가 있어 전체 모집단을 제대로 대표하지 못할 경우 발생한다.\n",
    "- 데이터 품질이 데이터 양보다 중요할 떄가 있다. ***임의표본추출***은 편향을 줄이고 나중에 다시 하려면 훨씬 비싼 값을 치룰 수도 있는 품질 향상을 용이하게 한다."
   ]
  },
  {
   "cell_type": "markdown",
   "metadata": {},
   "source": [
    "# 2-2 선택편향\n",
    "***선택편향***은 데이터를 의식적이든 무의식적이든 ***선택적으로 고르는 관행***을 의미힌다. 결국 오해의 소지가 있거나 단편적인 결론을 얻게 된다.\n",
    "\n",
    "##### 용어 정리\n",
    "- 선택 편향(Seleciton Bias): 관측 데이터를 선택하는 방식 때문에 생기는 편향\n",
    "- 데이터 스누핑(Data Snooping): 뭔가 흥미로운 것을 찾아 광범위하게 데이터를 살피는 것\n",
    "- 방대한 검색 효과(Vast Search Effect): 중복 데이터 모델링이나 너무 많은 예측변수를 고려하는 모델링에서 비롯되는 편향 혹은 비재현성\n",
    "\n"
   ]
  },
  {
   "cell_type": "markdown",
   "metadata": {},
   "source": [
    "어떤 가설을 세우고 그것을 시험하기 위해서 잘 설계된 실험을 수행한다면 그 결과에 대해 강하게 확신할 수 있다. 하지만 이런 경우는 참 드물다. 보통은 가지고 있는 데이터를 먼저 확인한 후 그 안에서 패턴을 찾고자 한다. \n",
    "\n",
    "하지만 이것이 참된 패턴인지 아니면 그냥 데이터 스누핑을 통해 나온 결과인지 알 수가 없다. \n",
    "\n",
    "데이터 과학자들이 특별히 걱정하는 선택편향의 한 형태는 존 엘더(John Elder)가 방대한 검색 효과라고 부르는 것이다. 큰 데이터 집합을 가지고 반복적으로 다른 모델을 만들고 다른 질문을 하다보면 흥미로운 것을 발견하기 마련이다. \n",
    "\n",
    "성능을 검증하기 위해 둘 이상의 홀드아웃 세트를 이용하면 이를 방지할 수 있다. 또한 엘더는 데이터 마이닝 모델에서 제시하는 예측을 검증하기 위해, ***목푯값 섞기(target Shuffling)*** 라는 것을 추천했다. \n",
    "\n",
    "방대한 검색 효과 외에도, 통계에서 일반적으로 나타나는 선택 편향으로는 ***비임의표본추출, 데이터 체리 피킹, 특정한 통계적 효과를 강조하는 시간 구간 선택*** 등이 있다."
   ]
  },
  {
   "cell_type": "markdown",
   "metadata": {},
   "source": [
    "### 2-2-1 평균으로의 회귀\n",
    "\n",
    "***평균으로의 회귀***란 주어진 어떤 변수를 연속적으로 측정했을 때 나타나는 현상이다. 예외적인 경우가 관찰되면 그 다음에는 중간 정도의 경우가 관찰되는 경향이 있다. 다라서 예외 경우를 너무 특별하게 생각하고 의미를 부여하면 ***선택편향***으로 이어질 수 있다.\n",
    "\n",
    "[Caution]\n",
    "- 여기서 회귀는 '돌아간다'는 의미로 통게적인 모델링 방법의 하나인 선형회귀와는 구분되어야한다. 선형회귀는 예측변수와 결과변수 사이의 선형적 관계를 추정하는 방법이다.\n",
    "\n",
    "[주요 개념]\n",
    "- 가설을 구체적으로 명시하고 임의표본추출 원칙에 다라 데이터를 수집하면 편향을 피할 수 있다.\n",
    "- 모든 형태의 데이터 분석은 데이터 수집/분석 프로세스에서 생기는 편향의 위험성을 갖고 있다. \n"
   ]
  },
  {
   "cell_type": "markdown",
   "metadata": {},
   "source": [
    "# 2-3 통계학에서 표본분포\n",
    "\n",
    "통계의 ***표본분포***라는 용어는 하나의 동일한 모집단에서 얻은 여러 샘플에 대한 표본통계량의 분포를 나타낸다. 고전 통계의 대부분은 (작은) 표본을 가지고 (매우 큰) 모집단을 추론하는 것과 관련 잇다.\n",
    "\n",
    "[용어 정리]\n",
    "- ***표본통계량***/Sample Statistics: 더 큰 모집단에서 추출된 표본 데이터들로부터 얻은 측정 지표\n",
    "- ***데이터 분포***/Data Distribution: 어떤 데이터 집합에서의 각 개별 값의 도수분포\n",
    "- ***표본분포***Sampling Distribution***: 여러 표본들 혹은 재표본들로부터 얻은 표본통계량의 도수분포\n",
    "- ***중심극한정리***/Central Limit theorem: 표본크기가 커질수록 표본분포가 정규분포가를 따르는 현상\n",
    "- ***표준오차***/Standarad error: 여러 표본들로부터 얻은 표본통계량의 변량(개별 데이터 값들의 변량을 뜻하는 표준편차와 혼동하지 말 것\n",
    "\n",
    "\n",
    "일반적으로 우리는 표본통계량으로 어떤 것을 측정하거나(통계 또는 머신러닝 모델) 뭔가를 모델링하기 위해 표본을 뽑는다. 우리는 표본을 통해 추정이나 모델을 하기 때문에 오류가 있을 수 있다.\n",
    "\n",
    "주요 관심사는 ***표본의 변동성***이다. \n",
    "\n",
    "[CAUTION]\\\n",
    "흔히 ***데이터 분포***라고 알려진 개별 데이터 포인트의 분포와 표본분포라고 알려진 표본통계량의 분포를 구별하는것이 중요하다.\n",
    "\n",
    "평균과 같은 표본통계량의 분포는 데이터 자체의 분포보다 규칙적이고 종 모양일 가능성이 높다. 통계 기반이 되는 표본이 클수록, 그럴 가능성이 높은 것이 사실이다. "
   ]
  },
  {
   "cell_type": "code",
   "execution_count": 17,
   "metadata": {},
   "outputs": [
    {
     "data": {
      "text/plain": [
       "<seaborn.axisgrid.FacetGrid at 0x7f84bdf38690>"
      ]
     },
     "execution_count": 17,
     "metadata": {},
     "output_type": "execute_result"
    },
    {
     "data": {
      "image/png": "[encoded data removed]",
      "text/plain": [
       "<Figure size 288x432 with 3 Axes>"
      ]
     },
     "metadata": {
      "needs_background": "light"
     },
     "output_type": "display_data"
    }
   ],
   "source": [
    "import pandas as pd\n",
    "import seaborn as sns\n",
    "import matplotlib.pyplot as plt\n",
    "\n",
    "loans_income = pd.read_csv('./data_in/loans_income.csv')\n",
    "loans_income = loans_income['x']\n",
    "sample_data = pd.DataFrame({\n",
    "    'income': loans_income.sample(1000),\n",
    "    'type': 'Data'\n",
    "})\n",
    "\n",
    "sample_mean_05 = pd.DataFrame({\n",
    "    'income':[loans_income.sample(5).mean() for _ in range(1000)],\n",
    "    'type':'Mean of 5',\n",
    "})\n",
    "\n",
    "sample_mean_20 = pd.DataFrame({\n",
    "    'income': [loans_income.sample(20).mean() for _ in range(1000)],\n",
    "    'type': 'Mean of 20'\n",
    "})\n",
    "\n",
    "results = pd.concat([sample_data, sample_mean_05, sample_mean_20])\n",
    "\n",
    "g = sns.FacetGrid(results, col='type', col_wrap=1, height=2, aspect=2)\n",
    "g.map(plt.hist, 'income', range=[0, 200000], bins=40)\n",
    "g.set_axis_labels('Income', 'Count')\n",
    "g.set_titles('{col_name}')"
   ]
  },
  {
   "cell_type": "markdown",
   "metadata": {},
   "source": [
    "### 2-3-1 중심극한정리\n",
    "\n",
    "표본 크기가 충분하고 데이터가 정규성을 크게 이탈하지 않는 경우 여러 표본에서 추출한 평균은 종모양의 정규곡선을 따른다. 중심극한정리 덕분에 추론을 위한 표본분포에 즉 신뢰구간이나 가설검정을 계산하는데에 t분포 같은 정규 근사 공식을 사용할 수 있다.\n",
    "\n",
    "중심극한정리는 가설검정과 신뢰구간의 밑바탕이 되기 때문에 보든 참고서에서 중요하게 다룬다. "
   ]
  },
  {
   "cell_type": "markdown",
   "metadata": {},
   "source": [
    "### 2-3-2 표준오차\n",
    "***표준오차***는 통계에 대한 표본분포의 변동성을 한마디로 말해주는 단일 측정 지표이다. 표준 오차는 표본 값들의 표준오차 s와 표본크기 n을 기반으로한 통계량을 이요하여 추정할 수 있다.\n",
    "\n",
    "$$ 표준오차 = SE = \\frac{s}{\\sqrt{n}} $$\n",
    "\n",
    "표준오차 공식의 유효성은 중심극한정리를 통해 증명된다. 하지만 실제 표준오차를 이해하기 위해 중심극한정리에 너무 의존할 필요는 없다. 표준오차를 측정할 때 고렿라 사항은 다음과 같다.\n",
    "1. 모집단에서 완전히 새로운 샘플들을 많이 수집한다.\n",
    "2. 각각의 새 샘플에 대해 통계량(예: 평균)을 계산한다.\n",
    "3. 2단계에서 얻은 통계량의 표준편차를 계산한다. 이것을 표준오차의 추정치로 사용한다.\n",
    "\n",
    "현대 통계에서 부트스트랩은 표준오차를 추정하는 표준 방법이 되었다.\n",
    "\n",
    "##### CAUTION: 표준편차와 표준오차 \n",
    "-개별 데이터 포인트의 변동성을 측정하는 표준편차와 표본 측정 지표의 변동성을 측정하는 표준오차를 혼동하지 말자.\n",
    "\n",
    "##### 주요 개념\n",
    "- 표본통계량의 도수분포는 그 해당 지표가 표본마다 다르게 나타날 수 있음을 보여준다.\n",
    "- 부트스트랩 방식 혹은 중심극한정리에 의존하는 공식을 통해 표본분포를 추정할 수있다.\n",
    "- 표준오차는 표본통계량의 변동성을 요약하는 주요 지표다."
   ]
  },
  {
   "cell_type": "markdown",
   "metadata": {},
   "source": [
    "# 2-4 부트스트랩\n",
    "\n",
    "통계량이나 모델 파라미터(모수)의 표본분포를 추정하는 쉽고 효과적인 방법은 현재 있는 표본에서 추가적으로 표본을 복원추출하고 각 표본에 대한 통계량과 모델을 다시 계산하는 것이다.\n",
    "\n",
    "이러한 절차를 ***부트스트랩(BootStrap)***이라 하며 데이터나 표본통계량이 정규분포를 따라야 하는 가정은 꼭 필요하지 않다.\n",
    "\n",
    "##### 용어 정리\n",
    "- 부트스트랩 표본(BootStrap Sample): 관측 데이터 집합으로부터 얻은 복원 추출 표본\n",
    "- 재표본추출(재표집, 리모델링) 관측 데이터로부터 반복해서 표본추출하는 과정, 부트스트랩과 순열(셔플링)과정을 포함한다.\n",
    "\n",
    "크기 n의 샘플의 평균을 구하는 부트스트랩 재표본추출 알고리즘은 다음과 같다.\n",
    "1. 샘플 값을 하나 뽑아서 기록하고 다시 제자리에 놓는다.\n",
    "2. n번 반복한다.\n",
    "3. 재표본추출된 값은 평균을 기록한다.\n",
    "4. 1~3단게를 R번 반복한다.\n",
    "5. R개의 결과를 사용하여\n",
    "    - 표준편차(표본평균의 표준오차)를 계산한다.\n",
    "    - 히스토그램 도는 상자그림을 그린다.\n",
    "    - 신뢰구간을 찾는다.\n",
    "   \n",
    "R(부트스트랩 반복 횟수0는 임의로 설정한다. 반복 횟수가 많을수록 표준오차나 신뢰구간에 대한 추정이 더 정확해진다. 이런 절차를 통해 표본통계량 혹은 추정한 모델 파라미터의 부트스트랩 집합을 얻게 되고 결과적으로 이 집합이 얼마나 변하는지를 조사할 수 있다.\n"
   ]
  },
  {
   "cell_type": "code",
   "execution_count": 21,
   "metadata": {},
   "outputs": [],
   "source": [
    "from sklearn.utils import resample"
   ]
  },
  {
   "cell_type": "code",
   "execution_count": 26,
   "metadata": {},
   "outputs": [
    {
     "name": "stdout",
     "output_type": "stream",
     "text": [
      "Bootstrap Statistics: \n",
      "original: 62000.0\n",
      "bias: -77.84799999999814\n",
      "std. error: 226.1280683579535\n"
     ]
    }
   ],
   "source": [
    "results = []\n",
    "for nrepeat in range(1000):\n",
    "    sample = resample(loans_income)\n",
    "    results.append(sample.median())\n",
    "results = pd.Series(results)\n",
    "\n",
    "print('Bootstrap Statistics: ')\n",
    "print(f'original: {loans_income.median()}')\n",
    "print(f'bias: {results.mean() - loans_income.median()}')\n",
    "print(f'std. error: {results.std()}')"
   ]
  },
  {
   "cell_type": "markdown",
   "metadata": {},
   "source": [
    "모델 파라미터의 안정성(변동성)을 추정하거나 예측력을 높이기 위해 부트스트랩 데이터를 가지고 모델을 돌려볼 수 있다. 분류 및 회귀트리(의사결정 트리)를 사용할 때 여러 부트스트랩 샘플을 가지고 트리를 여러개 만든 다음 각 트리에서 나온 예측값을 평균 내는 것이 일반적으로 단일트리를 사용하는 것 보다 효과적이다. 이 프로세스를 배깅이라고 부른다.\n",
    "\n",
    "##### CAUTION\n",
    "부트스트랩은 표본크기가 작은 것을 보완하기 위한 것이 아니다. 새 데이터를 만드는 것도 아니며 기존 데이터 집합의 빈곳을 채우는 것도 아니다. 모집단에서 추가적으로 표본을 뽑는다고 할 때 그 표본이 얼마나 원래 표본과 비슷한지를 알려줄 뿐이다."
   ]
  },
  {
   "cell_type": "markdown",
   "metadata": {},
   "source": [
    "### 2-4-1 재표본추출 대 부트스트래핑\n",
    "\n",
    "종종 ***재표본추출***이라는 용어는 앞서 소개한 ***부트스트랩***과 비슷한 의미로 사용된다. 보통 재표본추출은 여러 표본이 결합되어 비복원추출을 수행할 수 있는 순열 과정을 포함한다. 부트스트랩은 항상 관측된 데이터로부터 복원추출한다는 것을 의미한다.\n",
    "\n",
    "##### 주요 개념\n",
    "- 부트스트랩(데이터로부터 복원추출)은 ***표본통계량의 변동성***을 평가하는 강력한 도구이다.\n",
    "- 부트스트랩은 표본분포의 수학적 근사치에 대한 엄청난 연구 없이도 다양한 환경에서 유사한 반식으로 적용될 수 있다.\n",
    "- 또한 수학적 근사가 어려운 통계량에 대해서도 샘플링 분포를 추정할 수 있다.\n",
    "- 예측 모델을 적용할 때 여러 부트스트랩 표본들로부터 얻은 예측값을 모아서 결론을 만드는 것(배깅)이 단일 모델을 사용하는 것보다 좋다.\n"
   ]
  },
  {
   "cell_type": "markdown",
   "metadata": {},
   "source": [
    "# 2-5 신뢰구간\n",
    "\n",
    "도수분포표, 히스토그램, 상자그림, 표준오차는 모두 표본추정에서 잠재적인 오차를 이해하는 방법이다.\n",
    "\n",
    "##### 용어 정리\n",
    "- 신뢰수준(Confidence level): 같은 모집단으로부터 같은 방식으로 얻은 관심 통계량을 포함할 것으로 예상되는 신뢰구간의 백분율\n",
    "- 구간끝점(Interval endpoint): 신뢰구간의 최상위, 최하위 끝점\n",
    "\n",
    "신뢰구간은 항상 90% 또는 95%와 같이 (높은) 백분율로 표현되는 포함 수준과 함께 나온다.\n",
    "90% 신뢰구간이란 표본통계량의 부트스트랩 표본분포의 90%를 포함하는 구간을 말한다. \n",
    "\n",
    "더 일반적으로 표본추정치 주위의 x% 신뢰구간이란, 평균적으로 유사한 표본추정치 x%정도가 포함되어야 한다.\n",
    "\n",
    "신뢰구간을 구하는 방법\n",
    "1. 데이터에서 복원추출 방식으로 크기 n인 표본을 뽑는다.(재표본추출)\n",
    "2. 재표본추출한 표본에 대해 원하는 통계량을 기록한다.\n",
    "3. 1~2단계를 R번 반복한다.\n",
    "4. x% 신뢰구간을 구하기 위해, R개의 재표본 결과의 분포 양쪽 끝에서[(100-x)/2]%만큼 잘라낸다. \n",
    "5. 절단한 점들은 x% 부트스트랩 신뢰구간의 양 끝점이다.\n",
    "\n",
    "부트스트랩은 대부분의 통계량 혹은 모델 파라미터에 대한 신뢰구간을 생성하는데 사용할 수 있는 기법이다. \n",
    "\n",
    "##### NOTE \n",
    "물론 표본 결과를 얻었을 때 정말로 궁금한 것은 ***참값이 일정 구간 안에 있을 확률은 얼마인가?***이다. 신뢰구간이 이 질문에 대한 답을 주는 것은 아니지만 결국 대부분의 사람이 이 질문에 대한 대답을 설명하는 근거로 신뢰구간을 사용한다. \n",
    "\n",
    "신뢰구간과 관련된 확률 문제는 ***표본추출 절차와 모집단이 주어지면 ~할 확률은 얼마인가?***라는 문구로 시작된다. 반대로 ***표본 결과가 주어졌을 때(모집단에 대해 어떤 것이 참일* 확률은 무엇인가?***라는 질문은 더 복잡한 계산과 불확실한 요소를 필요로 한다.\n",
    "\n",
    "신뢰구간과 관련된 백분율을 ***신뢰수준***이라고 부른다. 신뢰수준이 높을수록 구간이 더 넓어진다. 표본이 작을수록 구간이 넓어진다. (불확실성이 더 커진다.) \n",
    "- 데이터가 적을수록 / 확실히 참값을 얻기에 충분한 신뢰구간을 확보해야 한다.\n",
    "\n",
    "##### 주요개념\n",
    "- 신뢰구간은 구간 범위로 추정값을 표시하는 일반적인 방법이다.\n",
    "- 더 많은 데이터를 보유할수록 표본추정치의 변이가 줄어든다.\n",
    "- 허용할 수 있는 신뢰수준이 낮을수록 신뢰구간은 좁아진다.\n",
    "- 부트스트랩은 신뢰구간을 구성하는 효과적인 방법이다."
   ]
  },
  {
   "cell_type": "markdown",
   "metadata": {},
   "source": [
    "# 2-6 정규분포\n",
    "\n",
    "종 모양의 정규분포(Normal Distribution)는 전통적인 통계의 상징이다. \n",
    "\n",
    "##### 용어 정리\n",
    "- 오차(Error): 데이터 포인트와 예측값 혹은 평균 사이의 차이\n",
    "- 표준화(정규화): 평균을 빼고 표준편차로 나눈다.\n",
    "- z점수(Z-Score): 개별 데이터 포인트를 정규화한 결과\n",
    "- 표준정규분포: 평균=0, 표준편차=1인 정규분포\n",
    "- QQ그림: 표본분포가 특정 분포(예, 정규분포)에 얼마나 가까운지를 보여주는 그림\n",
    "\n",
    "##### CAUTION\n",
    "대부분의 데이터가 정규분포를 따르기 때문에, 즉 이게 정상이기 때문에 정상(Normal) 분포라고 부르는 것은 아니다. 실제로 전형적인 데이터 과학 프로젝트에서 사용되는 대부분의 변수들은 정규분포를 따르지 않는다. \n",
    "\n",
    "표본분포에서 대부분의 통계량이 정규분포를 따른다는 점에서 정규분포의 유용함이 드러날 뿐이다.\n",
    "\n",
    "##### NOTE\n",
    "정규분포는 가우스의 이름을 따 가우스분포라고도 불린다."
   ]
  },
  {
   "cell_type": "markdown",
   "metadata": {},
   "source": [
    "### 2-6-1 표준정규분포와 QQ PLOT\n",
    "\n",
    "표준정규분포는 x축의 단위가 평균의 표준편차로 표현되는 정규분포를 말한다. \n",
    "- 데이터를 표준정규분포와 비교하려면 데이터에서 평균을 뺀다음 표준편차로 나누면 된다.\n",
    "- 이를 정규화/표준퐈라고 하며 이렇게 변환한 값을 z-점수라고 하며, 정규분포를 z-분포라고 한다.\n",
    "\n"
   ]
  },
  {
   "cell_type": "code",
   "execution_count": 33,
   "metadata": {},
   "outputs": [],
   "source": [
    "from scipy import stats"
   ]
  },
  {
   "cell_type": "code",
   "execution_count": 38,
   "metadata": {},
   "outputs": [
    {
     "data": {
      "image/png": "[encoded data removed]",
      "text/plain": [
       "<Figure size 288x288 with 1 Axes>"
      ]
     },
     "metadata": {
      "needs_background": "light"
     },
     "output_type": "display_data"
    }
   ],
   "source": [
    "fig, ax = plt.subplots(figsize=(4,4))\n",
    "norm_sample = stats.norm.rvs(size=100)\n",
    "stats.probplot(norm_sample, plot=ax)\n",
    "plt.xlabel('정규분포의 분위수')\n",
    "plt.ylabel('z-score')\n",
    "plt.show()\n"
   ]
  },
  {
   "cell_type": "markdown",
   "metadata": {},
   "source": [
    "##### 주요 개념\n",
    "- 정규분포는 불확실성과 변동성에 관한 수학적 근사가 가능하도록 했다. 이는 통계의 역사적 발전에 필수적이었다.\n",
    "- 원시 데이터 자체는 대게 정규분포가 아니지만 표본들의 평균과 합계 그리고 오차는 많은 경우 정규분포를 따른다.\n",
    "- 데이터를 z점수로 변환하려면 데이터의 값에서 평균을 빼고 표준펴차로 나눈다. 그러면 데이터를 정규분포와 비교할 수 있다."
   ]
  },
  {
   "cell_type": "code",
   "execution_count": null,
   "metadata": {},
   "outputs": [],
   "source": []
  }
 ],
 "metadata": {
  "kernelspec": {
   "display_name": "Python 3",
   "language": "python",
   "name": "python3"
  },
  "language_info": {
   "codemirror_mode": {
    "name": "ipython",
    "version": 3
   },
   "file_extension": ".py",
   "mimetype": "text/x-python",
   "name": "python",
   "nbconvert_exporter": "python",
   "pygments_lexer": "ipython3",
   "version": "3.7.4"
  }
 },
 "nbformat": 4,
 "nbformat_minor": 4
}

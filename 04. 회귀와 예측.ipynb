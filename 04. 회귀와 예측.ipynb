{
 "cells": [
  {
   "cell_type": "markdown",
   "metadata": {},
   "source": [
    "통계학에서 가장 일반적인 목표는 다음 질문들에 대한 답을 찾는 것이다. $변수 X(혹은 X_{1}, ... X_{p})$가 변수 Y와 관련이 있는가? 있다면 어떤 관련이 있는가?이를 이용해 Y를 예측할 수 있는가?\n",
    "\n",
    "특히 '예측' 변숫값을 기반으로 결과(목표) 변수를 예측하는 영역만큼 통계와 데이터 과학이 서로 강하게 연결되는 부분도 없다. \n",
    "- 지도학습(Supervised Learning): 이미 결과를 알고 있는 데이터로 모델을 훈련하고 이후에 결과를 모르는 데이터에 적용하는 프로세스\n",
    "\n",
    "회귀진단은 원래 데이터 분석을 위해 개발되었고, 이것이 발전하면서 비정상적인 데이터를 검출하는데도 사용되고 있다."
   ]
  },
  {
   "cell_type": "code",
   "execution_count": 1,
   "metadata": {},
   "outputs": [],
   "source": [
    "import pandas as pd\n",
    "import numpy as np\n",
    "import matplotlib.pyplot as plt\n",
    "import seaborn as sns"
   ]
  },
  {
   "cell_type": "markdown",
   "metadata": {},
   "source": [
    "# 4.1 단순선형회귀\n",
    "\n",
    "\n",
    "단순선형회귀는 한 변수와 또 다른 변수의 크기 사이에 어떤 관계에 대한 모델을 제공한다. 앞서 다룬 상관관계 역시 두 변수가 서로 어떤관계인지 보여주는 방법 중 하나이다. \n",
    "\n",
    "상관관계가 두 변수 사이의 전체적인 관련 강도를 측정하는 것이라면 ***회귀***는 관계 자체를 정량화하는 방법이다.\n",
    "\n",
    "##### 용어 정리\n",
    "- 응답변수/반응변수(response variable)\n",
    "    - 예측하고자 하는 변수(유의어: 종속변수, 변수 Y, 목표, 출력)\n",
    "\n",
    "- 독립변수(independent variable):\n",
    "    - 응답치를 예측하기 위해 사용되는 변수(유의어: 예측변수, 변수 X, 피처, 속성)\n",
    "    \n",
    "- 레코드(record): \n",
    "    - 한 특정 경우에 대한 입력과 출력을 담고 있는 벡터(유의어: 행, 사건 예시_instance, 예제_example)\n",
    "    \n",
    "- 절편(intercept):\n",
    "    - 회귀직선의 절편 즉, X=0일 때 예측값(유의어: $b_{0}, \\beta_{0}$)\n",
    "    \n",
    "- 회귀계수(regression coefficient):\n",
    "    - 회귀직선의 기울기(유의어: 기울기_slope, $b_{1}, \\beta_{1}$, 모수 추정치, 가중치)\n",
    "    \n",
    "- 적합값(fitted value): \n",
    "    - 회귀선으로부터 얻은 추정치 $\\hat{Y}_{i}$ (유의어: 예측값)\n",
    "    \n",
    "- 잔차(residual):\n",
    "    - 관측값과 적합값의 차이 (유의어: 오차)\n",
    "    \n",
    "- 최소제곱(least square):\n",
    "    - 잔차의 제곱합을 최소화하여 회귀를 피팅하는 방법(유의어: 보통최소제곱, OLS)"
   ]
  },
  {
   "cell_type": "markdown",
   "metadata": {},
   "source": [
    "### 4-1-1 회귀식\n",
    "\n",
    "단순선형회귀를 통해 X가 얼마나 변하면 y가 어느정도 변하는지를 정확히 추정할 수 있다. 상관계수의 경우 변수 X와 변수 Y가 서로 바뀌어도 상관없다. 회귀에서는 다음과 같은 식으로 선형 관계를 이용해 변수 X로부터 Y를 예측하고자 한다.\n",
    "\n",
    "$$ Y = b_{0} + b_{1}X $$\n",
    "\n",
    "$'Y는 X에 b_{1}을 곱하고 거기에 b_{0}을 더한 값과 같다'$\n",
    "- $b_{0}$는 절편(상수) $b_{1}$은 X의 기울기(slope)라고 한다.\n",
    "- b_{1}은 주로 계수(coefficient)라고 한다.\n",
    "\n"
   ]
  },
  {
   "cell_type": "code",
   "execution_count": 2,
   "metadata": {},
   "outputs": [
    {
     "data": {
      "image/png": "[encoded data removed]",
      "text/plain": [
       "<Figure size 360x360 with 1 Axes>"
      ]
     },
     "metadata": {
      "needs_background": "light"
     },
     "output_type": "display_data"
    }
   ],
   "source": [
    "lung = pd.read_csv('./data_in/'+'LungDisease.csv')\n",
    "\n",
    "fig, ax  = plt.subplots(figsize=(5, 5))\n",
    "\n",
    "plt.scatter(x=lung['Exposure'], y = lung['PEFR'],\n",
    "           c='white', edgecolors='black')\n",
    "\n",
    "plt.title('그림4-1 면진에 대한 노출 연수와 폐활량')\n",
    "plt.xlabel('Exposure')\n",
    "plt.ylabel('PEFR')\n",
    "plt.show()"
   ]
  },
  {
   "cell_type": "markdown",
   "metadata": {},
   "source": [
    "단순선형회귀는 예측변수 Exposure에 대한 함수로 응답변수 PEFR을 예측하기 위해 가장 최선의 직선을 찾으려 시도한다.\n",
    "\n",
    "$$PEFR = b_{0} + b_{1}*EXPOSURE $$"
   ]
  },
  {
   "cell_type": "code",
   "execution_count": 3,
   "metadata": {},
   "outputs": [
    {
     "name": "stdout",
     "output_type": "stream",
     "text": [
      "Intercept: 424.583\n",
      "Coefficient Exposure: -4.185\n"
     ]
    }
   ],
   "source": [
    "from sklearn.linear_model import LinearRegression\n",
    "\n",
    "predictors = ['Exposure']\n",
    "outcome = 'PEFR'\n",
    "\n",
    "model = LinearRegression()\n",
    "model.fit(lung[predictors], lung[outcome])\n",
    "\n",
    "print(f'Intercept: {model.intercept_:_.3f}')\n",
    "print(f'Coefficient Exposure: {model.coef_[0]:.3f}')"
   ]
  },
  {
   "cell_type": "markdown",
   "metadata": {},
   "source": [
    "##### 결과\n",
    "- 절편$b_{0}$: 424.583\n",
    "- 회귀계수$b_{1}$: -4.185\n",
    "\n",
    "즉, 노출된 연수가 0 일 때 예측되는 PEFR이 424.583이고, 연수가 1씩 증가할 때마다 PEFR은 -4.185의 비율로 줄어든다고 해석 가능"
   ]
  },
  {
   "cell_type": "code",
   "execution_count": 4,
   "metadata": {},
   "outputs": [
    {
     "data": {
      "image/png": "[encoded data removed]",
      "text/plain": [
       "<Figure size 360x360 with 1 Axes>"
      ]
     },
     "metadata": {
      "needs_background": "light"
     },
     "output_type": "display_data"
    }
   ],
   "source": [
    "lung = pd.read_csv('./data_in/'+'LungDisease.csv')\n",
    "\n",
    "fig, ax  = plt.subplots(figsize=(5, 5))\n",
    "\n",
    "x = lung[predictors]\n",
    "y = -4.185*x + 424.583\n",
    "\n",
    "plt.plot(x,y, c='navy')\n",
    "plt.hlines(350, 8, 18, color='red', linestyle='--', linewidth=1)\n",
    "plt.vlines(8, 350, 390, color='red', linestyle='--', linewidth=1)\n",
    "\n",
    "\n",
    "plt.ylim(290,460)\n",
    "plt.xlim(0,23)\n",
    "\n",
    "plt.title('그림4-2 폐활량 회귀 적합도의 기울기 및 절편')\n",
    "plt.xlabel('Exposure')\n",
    "plt.ylabel('PEFR')\n",
    "plt.show()"
   ]
  },
  {
   "cell_type": "markdown",
   "metadata": {},
   "source": [
    "### 4-1-2 적합값과 잔차\n",
    "\n",
    "회귀분석에서 중요한 개념은 적합값(예측값)과 잔차(예측 오차)이다. 보통 모든 데이터가 정확히 한 직선 안에 들어오지는 않는다. 따라서 회귀식은 명시적으로 오차항 $e_{i}$를 포함한다.\n",
    "\n",
    "$$ Y_{i} = b_{0} + b_{1}X_{i} + e_{i}$$\n",
    "\n",
    "***적합값***은 ***예측값***을 지칭하는 말로 보통 $\\hat{Y}_{i}$ 으로 나타낸다.\n",
    "\n",
    "$$ \\hat{Y}_{i} = \\hat{b}_{0} + \\hat{b}_{1}X_{i}$$\n",
    "\n",
    "$\\hat{b}_{0}$와 $\\hat{b}_{1}$은 이미 알려진 값이 아닌 추정을 통해 얻은 값\n",
    "\n",
    "여기서 잔차 $\\hat{e}_{i}$는 원래 값에서 예측값을 빼서 구한다.\n",
    "\n",
    "$$\\hat{e}_{i} = Y_{i} - \\hat{Y}_{i} $$\n",
    "\n"
   ]
  },
  {
   "cell_type": "code",
   "execution_count": 5,
   "metadata": {
    "scrolled": true
   },
   "outputs": [],
   "source": [
    "fitted = model.predict(lung[predictors])\n",
    "residuals = lung['PEFR']  - fitted"
   ]
  },
  {
   "cell_type": "markdown",
   "metadata": {},
   "source": [
    "### 4-1-3 최소제곱\n",
    "\n",
    "피팅한 모뎅를 어떻게 만들 수 있을까? 실무에서 회귀선은 잔차들을 제곱한 값들의 합인 잔차제곱합(Residual sum of squares_ RSS)을 최소화하는 선이다.\n",
    "\n",
    "$$ RSS = \\Sigma^{n}_{i=1}(Y_{i} - \\hat{Y}_{i})^{2}$$\n",
    "\n",
    "$$= \\Sigma^{n}_{i=1}(Y_{i} - \\hat{b}_{0}-\\hat{b}_{1}X_{i})^{2}$$\n",
    "\n",
    "다시 말해 추정치 $\\hat{b}_{0}$과 $\\hat{b}_{1}$ 은 RSS를 최소화하는 값이다.\n",
    "\n",
    "잔차제곱합을 최소화하는 이러한 방법을 ***최소제곱회귀*** 혹은 ***보통최소제곱(Ordinary least squares _ OLS)회귀***라고 하낟."
   ]
  },
  {
   "cell_type": "markdown",
   "metadata": {},
   "source": [
    "### 4-1-4 예측 대 설명(프로파일링)\n",
    "\n",
    "##### 주요개념\n",
    "- 회귀방정식은 응답변수 Y와 예측변수 X 간의 관게를 선형함수로 모델링한다.\n",
    "- 회귀모형은 적합값과 잔차, 즉 반응에 대한 예측과 그 예측 오차를 산출한다.\n",
    "- 회귀모형은 일반적으로 최소제곱법을 이용해 피팅한다.\n",
    "- 회귀는 예측과 설명 모두에 사용된다."
   ]
  },
  {
   "cell_type": "markdown",
   "metadata": {},
   "source": [
    "# 4-2 다중선형회귀\n",
    "\n",
    "예측변수가 여러 개라면 수식은 다음과 같다.\n",
    "\n",
    "$$ Y = b_{0} + b_{1}X_{1} + b_{2}X_{2} + ... + b_{p}X_{p} + e $$\n",
    "\n",
    "##### 용어정리\n",
    "- 제곱근평가제곱오차/RMSE(Root Mean Squared Error):\n",
    "    - 회귀시 평균제곱오차의 제곱회귀모형을 평가하는데 가장 널리 사용되는 지표\n",
    "- 잔차표준오차/RSE(Residual Standard Error):\n",
    "    - 평균제곱오차와 동일하지만 자유도에 따라 보정된 값\n",
    "- R 제곱(R-Squared):\n",
    "    - 0에서 1까지 모델에 의해 설명된 분산의 비율(유의어: 결정계수)\n",
    "- t 통계량(t-statistics):\n",
    "    - 계수의 표준오차로 나눈 예측변수의 계수, 모델에서 변수의 중요도를 비교하는 기준이 된다.\n",
    "- 가중회귀(weighted Regression):\n",
    "    - 다른 가중치를 가진 레코드들을 회귀하는 방법\n",
    "\n",
    "$$ \\hat{Y}_{i} = \\hat{b}_{0} + \\hat{b}_{1}X_{1,i} + \\hat{b}_{2}X_{2,i} + ... + \\hat{b}_{p}X_{p,i}$$"
   ]
  },
  {
   "cell_type": "markdown",
   "metadata": {},
   "source": [
    "### 4-2-1 킹 카운티 주택 정보 예제\n",
    "\n"
   ]
  },
  {
   "cell_type": "code",
   "execution_count": 6,
   "metadata": {},
   "outputs": [
    {
     "data": {
      "text/html": [
       "<div>\n",
       "<style scoped>\n",
       "    .dataframe tbody tr th:only-of-type {\n",
       "        vertical-align: middle;\n",
       "    }\n",
       "\n",
       "    .dataframe tbody tr th {\n",
       "        vertical-align: top;\n",
       "    }\n",
       "\n",
       "    .dataframe thead th {\n",
       "        text-align: right;\n",
       "    }\n",
       "</style>\n",
       "<table border=\"1\" class=\"dataframe\">\n",
       "  <thead>\n",
       "    <tr style=\"text-align: right;\">\n",
       "      <th></th>\n",
       "      <th>AdjSalePrice</th>\n",
       "      <th>SqFtTotLiving</th>\n",
       "      <th>SqFtLot</th>\n",
       "      <th>Bathrooms</th>\n",
       "      <th>Bedrooms</th>\n",
       "      <th>BldgGrade</th>\n",
       "    </tr>\n",
       "  </thead>\n",
       "  <tbody>\n",
       "    <tr>\n",
       "      <th>1</th>\n",
       "      <td>300805.0</td>\n",
       "      <td>2400</td>\n",
       "      <td>9373</td>\n",
       "      <td>3.00</td>\n",
       "      <td>6</td>\n",
       "      <td>7</td>\n",
       "    </tr>\n",
       "    <tr>\n",
       "      <th>2</th>\n",
       "      <td>1076162.0</td>\n",
       "      <td>3764</td>\n",
       "      <td>20156</td>\n",
       "      <td>3.75</td>\n",
       "      <td>4</td>\n",
       "      <td>10</td>\n",
       "    </tr>\n",
       "    <tr>\n",
       "      <th>3</th>\n",
       "      <td>761805.0</td>\n",
       "      <td>2060</td>\n",
       "      <td>26036</td>\n",
       "      <td>1.75</td>\n",
       "      <td>4</td>\n",
       "      <td>8</td>\n",
       "    </tr>\n",
       "    <tr>\n",
       "      <th>4</th>\n",
       "      <td>442065.0</td>\n",
       "      <td>3200</td>\n",
       "      <td>8618</td>\n",
       "      <td>3.75</td>\n",
       "      <td>5</td>\n",
       "      <td>7</td>\n",
       "    </tr>\n",
       "    <tr>\n",
       "      <th>5</th>\n",
       "      <td>297065.0</td>\n",
       "      <td>1720</td>\n",
       "      <td>8620</td>\n",
       "      <td>1.75</td>\n",
       "      <td>4</td>\n",
       "      <td>7</td>\n",
       "    </tr>\n",
       "  </tbody>\n",
       "</table>\n",
       "</div>"
      ],
      "text/plain": [
       "   AdjSalePrice  SqFtTotLiving  SqFtLot  Bathrooms  Bedrooms  BldgGrade\n",
       "1      300805.0           2400     9373       3.00         6          7\n",
       "2     1076162.0           3764    20156       3.75         4         10\n",
       "3      761805.0           2060    26036       1.75         4          8\n",
       "4      442065.0           3200     8618       3.75         5          7\n",
       "5      297065.0           1720     8620       1.75         4          7"
      ]
     },
     "execution_count": 6,
     "metadata": {},
     "output_type": "execute_result"
    }
   ],
   "source": [
    "house = pd.read_csv('./data_in/'+'house_sales.csv', delimiter='\\t')\n",
    "subset = ['AdjSalePrice', 'SqFtTotLiving', 'SqFtLot', 'Bathrooms',\n",
    "         'Bedrooms', 'BldgGrade']\n",
    "\n",
    "house[subset].head()"
   ]
  },
  {
   "cell_type": "markdown",
   "metadata": {},
   "source": [
    "목표는 이런 변수들을 통해 ***판매금액***을 예측하는 것. "
   ]
  },
  {
   "cell_type": "code",
   "execution_count": 7,
   "metadata": {},
   "outputs": [
    {
     "data": {
      "text/plain": [
       "LinearRegression()"
      ]
     },
     "execution_count": 7,
     "metadata": {},
     "output_type": "execute_result"
    }
   ],
   "source": [
    "predictors = ['SqFtTotLiving', 'SqFtLot', 'Bathrooms', 'Bedrooms',\n",
    "             'BldgGrade']\n",
    "outcome = 'AdjSalePrice'\n",
    "\n",
    "house_lm = LinearRegression()\n",
    "house_lm.fit(house[predictors], house[outcome])"
   ]
  },
  {
   "cell_type": "code",
   "execution_count": 8,
   "metadata": {},
   "outputs": [
    {
     "name": "stdout",
     "output_type": "stream",
     "text": [
      "Intercept: -521871.368\n",
      "Coefficients: \n",
      "- SqFtTotLiving: 228.83060360240796\n",
      "- SqFtLot: -0.06046682065307607\n",
      "- Bathrooms: -19442.840398321056\n",
      "- Bedrooms: -47769.95518521438\n",
      "- BldgGrade: 106106.96307898083\n"
     ]
    }
   ],
   "source": [
    "print(f'Intercept: {house_lm.intercept_:.3f}')\n",
    "print('Coefficients: ')\n",
    "for name, coef in zip(predictors, house_lm.coef_):\n",
    "    print(f'- {name}: {coef}')"
   ]
  },
  {
   "cell_type": "markdown",
   "metadata": {},
   "source": [
    "### 4-2-2 모형 평가\n",
    "\n",
    "데이터 과학의 관점에서 가장 중요한 성능 지표는 바로 ***제곱근평균오차(RMSE)***이다. RMSE는 예측된 $\\hat{y}_{i}$ 값들의 평균제곱오차의 제곱근을 말한다.\n",
    "\n",
    "$$ RMSE = \\sqrt\\frac{\\Sigma^{n}_{i=1}(y_{i} - \\hat{y}_{i})^{2}}{n}$$\n",
    "\n",
    "전반적인 모델의 정확도를 측정하고 다른 모델(머신러닝 기술로 학습된 모델을 포함)과 비교하기 위한 기준이 된다. 이 외에도 RMSE와 유사한 ***잔차 표준오차(RSE)***가 있다. 예측변수가 p개일 때 RSE는 다음과 같다.\n",
    "\n",
    "$$ RSE = \\sqrt\\frac{\\Sigma^{n}_{i=1}(y_{i} - \\hat{y}_{i})^{2}}{n-p-1}$$\n",
    "\n",
    "유일한 차이점은 분모가 데이터 수가 아닌 ***자유도***라는 점이다."
   ]
  },
  {
   "cell_type": "code",
   "execution_count": 9,
   "metadata": {},
   "outputs": [
    {
     "name": "stdout",
     "output_type": "stream",
     "text": [
      "RMSE:  261220.197437\n",
      "r2: 0.5406\n"
     ]
    }
   ],
   "source": [
    "# 결정계수에 대한 RMSE와 r2_score를 얻기 위해 mean_squared_error를 사용\n",
    "from sklearn.metrics import mean_squared_error, r2_score\n",
    "fitted = house_lm.predict(house[predictors])\n",
    "RMSE = np.sqrt(mean_squared_error(house[outcome], fitted))\n",
    "r2 = r2_score(house[outcome], fitted)\n",
    "\n",
    "print(f'RMSE: {RMSE: 0f}')\n",
    "print(f'r2: {r2:.4f}')"
   ]
  },
  {
   "cell_type": "code",
   "execution_count": 10,
   "metadata": {
    "scrolled": true
   },
   "outputs": [
    {
     "data": {
      "text/html": [
       "<table class=\"simpletable\">\n",
       "<caption>OLS Regression Results</caption>\n",
       "<tr>\n",
       "  <th>Dep. Variable:</th>      <td>AdjSalePrice</td>   <th>  R-squared:         </th>  <td>   0.541</td>  \n",
       "</tr>\n",
       "<tr>\n",
       "  <th>Model:</th>                   <td>OLS</td>       <th>  Adj. R-squared:    </th>  <td>   0.540</td>  \n",
       "</tr>\n",
       "<tr>\n",
       "  <th>Method:</th>             <td>Least Squares</td>  <th>  F-statistic:       </th>  <td>   5338.</td>  \n",
       "</tr>\n",
       "<tr>\n",
       "  <th>Date:</th>             <td>Mon, 20 Jun 2022</td> <th>  Prob (F-statistic):</th>   <td>  0.00</td>   \n",
       "</tr>\n",
       "<tr>\n",
       "  <th>Time:</th>                 <td>23:21:17</td>     <th>  Log-Likelihood:    </th> <td>-3.1517e+05</td>\n",
       "</tr>\n",
       "<tr>\n",
       "  <th>No. Observations:</th>      <td> 22687</td>      <th>  AIC:               </th>  <td>6.304e+05</td> \n",
       "</tr>\n",
       "<tr>\n",
       "  <th>Df Residuals:</th>          <td> 22681</td>      <th>  BIC:               </th>  <td>6.304e+05</td> \n",
       "</tr>\n",
       "<tr>\n",
       "  <th>Df Model:</th>              <td>     5</td>      <th>                     </th>      <td> </td>     \n",
       "</tr>\n",
       "<tr>\n",
       "  <th>Covariance Type:</th>      <td>nonrobust</td>    <th>                     </th>      <td> </td>     \n",
       "</tr>\n",
       "</table>\n",
       "<table class=\"simpletable\">\n",
       "<tr>\n",
       "        <td></td>           <th>coef</th>     <th>std err</th>      <th>t</th>      <th>P>|t|</th>  <th>[0.025</th>    <th>0.975]</th>  \n",
       "</tr>\n",
       "<tr>\n",
       "  <th>SqFtTotLiving</th> <td>  228.8306</td> <td>    3.899</td> <td>   58.694</td> <td> 0.000</td> <td>  221.189</td> <td>  236.472</td>\n",
       "</tr>\n",
       "<tr>\n",
       "  <th>SqFtLot</th>       <td>   -0.0605</td> <td>    0.061</td> <td>   -0.988</td> <td> 0.323</td> <td>   -0.180</td> <td>    0.059</td>\n",
       "</tr>\n",
       "<tr>\n",
       "  <th>Bathrooms</th>     <td>-1.944e+04</td> <td> 3625.388</td> <td>   -5.363</td> <td> 0.000</td> <td>-2.65e+04</td> <td>-1.23e+04</td>\n",
       "</tr>\n",
       "<tr>\n",
       "  <th>Bedrooms</th>      <td>-4.777e+04</td> <td> 2489.732</td> <td>  -19.187</td> <td> 0.000</td> <td>-5.27e+04</td> <td>-4.29e+04</td>\n",
       "</tr>\n",
       "<tr>\n",
       "  <th>BldgGrade</th>     <td> 1.061e+05</td> <td> 2396.445</td> <td>   44.277</td> <td> 0.000</td> <td> 1.01e+05</td> <td> 1.11e+05</td>\n",
       "</tr>\n",
       "<tr>\n",
       "  <th>const</th>         <td>-5.219e+05</td> <td> 1.57e+04</td> <td>  -33.342</td> <td> 0.000</td> <td>-5.53e+05</td> <td>-4.91e+05</td>\n",
       "</tr>\n",
       "</table>\n",
       "<table class=\"simpletable\">\n",
       "<tr>\n",
       "  <th>Omnibus:</th>       <td>29676.557</td> <th>  Durbin-Watson:     </th>   <td>   1.247</td>  \n",
       "</tr>\n",
       "<tr>\n",
       "  <th>Prob(Omnibus):</th>  <td> 0.000</td>   <th>  Jarque-Bera (JB):  </th> <td>19390738.346</td>\n",
       "</tr>\n",
       "<tr>\n",
       "  <th>Skew:</th>           <td> 6.889</td>   <th>  Prob(JB):          </th>   <td>    0.00</td>  \n",
       "</tr>\n",
       "<tr>\n",
       "  <th>Kurtosis:</th>       <td>145.559</td>  <th>  Cond. No.          </th>   <td>2.86e+05</td>  \n",
       "</tr>\n",
       "</table><br/><br/>Notes:<br/>[1] Standard Errors assume that the covariance matrix of the errors is correctly specified.<br/>[2] The condition number is large, 2.86e+05. This might indicate that there are<br/>strong multicollinearity or other numerical problems."
      ],
      "text/plain": [
       "<class 'statsmodels.iolib.summary.Summary'>\n",
       "\"\"\"\n",
       "                            OLS Regression Results                            \n",
       "==============================================================================\n",
       "Dep. Variable:           AdjSalePrice   R-squared:                       0.541\n",
       "Model:                            OLS   Adj. R-squared:                  0.540\n",
       "Method:                 Least Squares   F-statistic:                     5338.\n",
       "Date:                Mon, 20 Jun 2022   Prob (F-statistic):               0.00\n",
       "Time:                        23:21:17   Log-Likelihood:            -3.1517e+05\n",
       "No. Observations:               22687   AIC:                         6.304e+05\n",
       "Df Residuals:                   22681   BIC:                         6.304e+05\n",
       "Df Model:                           5                                         \n",
       "Covariance Type:            nonrobust                                         \n",
       "=================================================================================\n",
       "                    coef    std err          t      P>|t|      [0.025      0.975]\n",
       "---------------------------------------------------------------------------------\n",
       "SqFtTotLiving   228.8306      3.899     58.694      0.000     221.189     236.472\n",
       "SqFtLot          -0.0605      0.061     -0.988      0.323      -0.180       0.059\n",
       "Bathrooms     -1.944e+04   3625.388     -5.363      0.000   -2.65e+04   -1.23e+04\n",
       "Bedrooms      -4.777e+04   2489.732    -19.187      0.000   -5.27e+04   -4.29e+04\n",
       "BldgGrade      1.061e+05   2396.445     44.277      0.000    1.01e+05    1.11e+05\n",
       "const         -5.219e+05   1.57e+04    -33.342      0.000   -5.53e+05   -4.91e+05\n",
       "==============================================================================\n",
       "Omnibus:                    29676.557   Durbin-Watson:                   1.247\n",
       "Prob(Omnibus):                  0.000   Jarque-Bera (JB):         19390738.346\n",
       "Skew:                           6.889   Prob(JB):                         0.00\n",
       "Kurtosis:                     145.559   Cond. No.                     2.86e+05\n",
       "==============================================================================\n",
       "\n",
       "Notes:\n",
       "[1] Standard Errors assume that the covariance matrix of the errors is correctly specified.\n",
       "[2] The condition number is large, 2.86e+05. This might indicate that there are\n",
       "strong multicollinearity or other numerical problems.\n",
       "\"\"\""
      ]
     },
     "execution_count": 10,
     "metadata": {},
     "output_type": "execute_result"
    }
   ],
   "source": [
    "# 회귀모형에 대한 자세한정보: statsmodels\n",
    "import statsmodels.api as sm\n",
    "model = sm.OLS(house[outcome], house[predictors].assign(const=1))\n",
    "results = model.fit()\n",
    "results.summary()"
   ]
  },
  {
   "cell_type": "markdown",
   "metadata": {},
   "source": [
    "팬더스의 assign 메서드는 값인 상수 열을 예측변수에 추가한다. 이것은 절편을 모델링하기 위해 필요하다.\n",
    "\n",
    "소프트웨어 출력에서 볼 수 있는 또 다른 유용한 지표는 ***결정계수***라고도 부르는 ***R 제곱 통계량($R^{2}$)***이다. 모델 데이터의 변동률을 측정하며 모델이 데이터에 얼마나 적합한지 평가하고자 할 때 사용된다.\n",
    "\n",
    "##### $R^{2}$에 관하여\n",
    "- SST(Total Sum of Squared):\n",
    "    - 관측값에서 관측값의 평균을 뺀 것의 총합\n",
    "    - $\\Sigma^{n}_{i=1}(y_{i} - \\bar{y})^{2}$\n",
    "\n",
    "- SSR(Residual Sum of Square):\n",
    "    - 관측값에서 추정값을 뺀 값들의 합(에러의 분산) 즉 설명되지 않는 부분 \n",
    "    - $\\Sigma^{n}_{i=1}(y_{i} - \\hat{y}_{i})^{2}$\n",
    "\n",
    "- SSE(Explained sum of Squares):\n",
    "    - 추정값에서 관측값의 평균을 뺀 결과의 총합. 즉 설명되는 분산(겹치는 부분)이다.\n",
    "    - $\\Sigma^{n}_{i=1}(\\hat{y}_{i} - \\bar{y})^{2}$\n",
    "    \n",
    "$$ R^{2} = \\frac{SSE}{SST} = 1 - \\frac{SSR}{SST} $$    \n",
    "\n"
   ]
  },
  {
   "cell_type": "markdown",
   "metadata": {},
   "source": [
    "### 4-2-3 교차타당성검사\n",
    "\n",
    "지금까지 다룬 전형적인 통계적 회귀 측정 지표들($R^2$, F 통계량, p 값 등)은 모두 '표본 내' 지표들이다. 모델을 구하는데 사용했던 데이터를 똑같이 그대로 사용한다. \n",
    "\n",
    "교차타당성검사(Cross-Validation)란, 홀드아웃 샘플 아이디어를 여러 개의 연속된 홀드아웃 샘플로 확장한 것이다. 기본적인 K-다중 교차타당성검사 알고리즘은 다음과 같다.\n",
    "\n",
    "1. 1/k의 데이터를 홀드아웃 샘플로 따로 떼어놓는다.\n",
    "2. 남아 있는 데이터로 모델을 훈련시킨다.\n",
    "3. 모델을 1/k 홀드아웃에 적용(점수를 매김)하고 필요한 모델 평가지표를 기록\n",
    "4. 4. 데이터의 첫 번째 1/k을 복원하고 다음 1/k(앞에서 선택했던 레코드 제외)을 따로 보관한다.\n",
    "5. 2~3을 반복한다.\n",
    "6. 모든 레코드가 홀드아웃 샘플로 사용될 때까지 반복한다.\n",
    "7. 모델 평가 지표들을 평균과 같은 방식으로 결합한다.\n",
    "\n",
    "훈련을 위한 샘플과 홀드아웃 샘플로 데이터를 나누는 것을 폴드(fold)라고 한다."
   ]
  },
  {
   "cell_type": "code",
   "execution_count": 11,
   "metadata": {},
   "outputs": [],
   "source": [
    "### 4-2-4 모형 선택 및 단계적 회귀"
   ]
  },
  {
   "cell_type": "code",
   "execution_count": 12,
   "metadata": {},
   "outputs": [
    {
     "data": {
      "text/html": [
       "<table class=\"simpletable\">\n",
       "<caption>OLS Regression Results</caption>\n",
       "<tr>\n",
       "  <th>Dep. Variable:</th>      <td>AdjSalePrice</td>   <th>  R-squared:         </th>  <td>   0.595</td>  \n",
       "</tr>\n",
       "<tr>\n",
       "  <th>Model:</th>                   <td>OLS</td>       <th>  Adj. R-squared:    </th>  <td>   0.594</td>  \n",
       "</tr>\n",
       "<tr>\n",
       "  <th>Method:</th>             <td>Least Squares</td>  <th>  F-statistic:       </th>  <td>   2771.</td>  \n",
       "</tr>\n",
       "<tr>\n",
       "  <th>Date:</th>             <td>Mon, 20 Jun 2022</td> <th>  Prob (F-statistic):</th>   <td>  0.00</td>   \n",
       "</tr>\n",
       "<tr>\n",
       "  <th>Time:</th>                 <td>23:21:17</td>     <th>  Log-Likelihood:    </th> <td>-3.1375e+05</td>\n",
       "</tr>\n",
       "<tr>\n",
       "  <th>No. Observations:</th>      <td> 22687</td>      <th>  AIC:               </th>  <td>6.275e+05</td> \n",
       "</tr>\n",
       "<tr>\n",
       "  <th>Df Residuals:</th>          <td> 22674</td>      <th>  BIC:               </th>  <td>6.276e+05</td> \n",
       "</tr>\n",
       "<tr>\n",
       "  <th>Df Model:</th>              <td>    12</td>      <th>                     </th>      <td> </td>     \n",
       "</tr>\n",
       "<tr>\n",
       "  <th>Covariance Type:</th>      <td>nonrobust</td>    <th>                     </th>      <td> </td>     \n",
       "</tr>\n",
       "</table>\n",
       "<table class=\"simpletable\">\n",
       "<tr>\n",
       "               <td></td>                 <th>coef</th>     <th>std err</th>      <th>t</th>      <th>P>|t|</th>  <th>[0.025</th>    <th>0.975]</th>  \n",
       "</tr>\n",
       "<tr>\n",
       "  <th>SqFtTotLiving</th>              <td>  198.6364</td> <td>    4.234</td> <td>   46.920</td> <td> 0.000</td> <td>  190.338</td> <td>  206.934</td>\n",
       "</tr>\n",
       "<tr>\n",
       "  <th>SqFtLot</th>                    <td>    0.0771</td> <td>    0.058</td> <td>    1.330</td> <td> 0.184</td> <td>   -0.037</td> <td>    0.191</td>\n",
       "</tr>\n",
       "<tr>\n",
       "  <th>Bathrooms</th>                  <td> 4.286e+04</td> <td> 3808.114</td> <td>   11.255</td> <td> 0.000</td> <td> 3.54e+04</td> <td> 5.03e+04</td>\n",
       "</tr>\n",
       "<tr>\n",
       "  <th>Bedrooms</th>                   <td>-5.187e+04</td> <td> 2396.904</td> <td>  -21.638</td> <td> 0.000</td> <td>-5.66e+04</td> <td>-4.72e+04</td>\n",
       "</tr>\n",
       "<tr>\n",
       "  <th>BldgGrade</th>                  <td> 1.373e+05</td> <td> 2441.242</td> <td>   56.228</td> <td> 0.000</td> <td> 1.32e+05</td> <td> 1.42e+05</td>\n",
       "</tr>\n",
       "<tr>\n",
       "  <th>NbrLivingUnits</th>             <td> 5723.8438</td> <td> 1.76e+04</td> <td>    0.326</td> <td> 0.744</td> <td>-2.87e+04</td> <td> 4.01e+04</td>\n",
       "</tr>\n",
       "<tr>\n",
       "  <th>SqFtFinBasement</th>            <td>    7.0611</td> <td>    4.627</td> <td>    1.526</td> <td> 0.127</td> <td>   -2.009</td> <td>   16.131</td>\n",
       "</tr>\n",
       "<tr>\n",
       "  <th>YrBuilt</th>                    <td>-3574.2210</td> <td>   77.228</td> <td>  -46.282</td> <td> 0.000</td> <td>-3725.593</td> <td>-3422.849</td>\n",
       "</tr>\n",
       "<tr>\n",
       "  <th>YrRenovated</th>                <td>   -2.5311</td> <td>    3.924</td> <td>   -0.645</td> <td> 0.519</td> <td>  -10.222</td> <td>    5.160</td>\n",
       "</tr>\n",
       "<tr>\n",
       "  <th>NewConstruction</th>            <td>-2489.1122</td> <td> 5936.692</td> <td>   -0.419</td> <td> 0.675</td> <td>-1.41e+04</td> <td> 9147.211</td>\n",
       "</tr>\n",
       "<tr>\n",
       "  <th>PropertyType_Single Family</th> <td> 2.997e+04</td> <td> 2.61e+04</td> <td>    1.149</td> <td> 0.251</td> <td>-2.12e+04</td> <td> 8.11e+04</td>\n",
       "</tr>\n",
       "<tr>\n",
       "  <th>PropertyType_Townhouse</th>     <td> 9.286e+04</td> <td>  2.7e+04</td> <td>    3.438</td> <td> 0.001</td> <td> 3.99e+04</td> <td> 1.46e+05</td>\n",
       "</tr>\n",
       "<tr>\n",
       "  <th>const</th>                      <td> 6.182e+06</td> <td> 1.55e+05</td> <td>   39.902</td> <td> 0.000</td> <td> 5.88e+06</td> <td> 6.49e+06</td>\n",
       "</tr>\n",
       "</table>\n",
       "<table class=\"simpletable\">\n",
       "<tr>\n",
       "  <th>Omnibus:</th>       <td>31006.128</td> <th>  Durbin-Watson:     </th>   <td>   1.393</td>  \n",
       "</tr>\n",
       "<tr>\n",
       "  <th>Prob(Omnibus):</th>  <td> 0.000</td>   <th>  Jarque-Bera (JB):  </th> <td>26251977.078</td>\n",
       "</tr>\n",
       "<tr>\n",
       "  <th>Skew:</th>           <td> 7.427</td>   <th>  Prob(JB):          </th>   <td>    0.00</td>  \n",
       "</tr>\n",
       "<tr>\n",
       "  <th>Kurtosis:</th>       <td>168.984</td>  <th>  Cond. No.          </th>   <td>2.98e+06</td>  \n",
       "</tr>\n",
       "</table><br/><br/>Notes:<br/>[1] Standard Errors assume that the covariance matrix of the errors is correctly specified.<br/>[2] The condition number is large, 2.98e+06. This might indicate that there are<br/>strong multicollinearity or other numerical problems."
      ],
      "text/plain": [
       "<class 'statsmodels.iolib.summary.Summary'>\n",
       "\"\"\"\n",
       "                            OLS Regression Results                            \n",
       "==============================================================================\n",
       "Dep. Variable:           AdjSalePrice   R-squared:                       0.595\n",
       "Model:                            OLS   Adj. R-squared:                  0.594\n",
       "Method:                 Least Squares   F-statistic:                     2771.\n",
       "Date:                Mon, 20 Jun 2022   Prob (F-statistic):               0.00\n",
       "Time:                        23:21:17   Log-Likelihood:            -3.1375e+05\n",
       "No. Observations:               22687   AIC:                         6.275e+05\n",
       "Df Residuals:                   22674   BIC:                         6.276e+05\n",
       "Df Model:                          12                                         \n",
       "Covariance Type:            nonrobust                                         \n",
       "==============================================================================================\n",
       "                                 coef    std err          t      P>|t|      [0.025      0.975]\n",
       "----------------------------------------------------------------------------------------------\n",
       "SqFtTotLiving                198.6364      4.234     46.920      0.000     190.338     206.934\n",
       "SqFtLot                        0.0771      0.058      1.330      0.184      -0.037       0.191\n",
       "Bathrooms                   4.286e+04   3808.114     11.255      0.000    3.54e+04    5.03e+04\n",
       "Bedrooms                   -5.187e+04   2396.904    -21.638      0.000   -5.66e+04   -4.72e+04\n",
       "BldgGrade                   1.373e+05   2441.242     56.228      0.000    1.32e+05    1.42e+05\n",
       "NbrLivingUnits              5723.8438   1.76e+04      0.326      0.744   -2.87e+04    4.01e+04\n",
       "SqFtFinBasement                7.0611      4.627      1.526      0.127      -2.009      16.131\n",
       "YrBuilt                    -3574.2210     77.228    -46.282      0.000   -3725.593   -3422.849\n",
       "YrRenovated                   -2.5311      3.924     -0.645      0.519     -10.222       5.160\n",
       "NewConstruction            -2489.1122   5936.692     -0.419      0.675   -1.41e+04    9147.211\n",
       "PropertyType_Single Family  2.997e+04   2.61e+04      1.149      0.251   -2.12e+04    8.11e+04\n",
       "PropertyType_Townhouse      9.286e+04    2.7e+04      3.438      0.001    3.99e+04    1.46e+05\n",
       "const                       6.182e+06   1.55e+05     39.902      0.000    5.88e+06    6.49e+06\n",
       "==============================================================================\n",
       "Omnibus:                    31006.128   Durbin-Watson:                   1.393\n",
       "Prob(Omnibus):                  0.000   Jarque-Bera (JB):         26251977.078\n",
       "Skew:                           7.427   Prob(JB):                         0.00\n",
       "Kurtosis:                     168.984   Cond. No.                     2.98e+06\n",
       "==============================================================================\n",
       "\n",
       "Notes:\n",
       "[1] Standard Errors assume that the covariance matrix of the errors is correctly specified.\n",
       "[2] The condition number is large, 2.98e+06. This might indicate that there are\n",
       "strong multicollinearity or other numerical problems.\n",
       "\"\"\""
      ]
     },
     "execution_count": 12,
     "metadata": {},
     "output_type": "execute_result"
    }
   ],
   "source": [
    "predictors = ['SqFtTotLiving', 'SqFtLot', 'Bathrooms', 'Bedrooms', 'BldgGrade',\n",
    "'PropertyType', 'NbrLivingUnits', 'SqFtFinBasement', 'YrBuilt',\n",
    "'YrRenovated', 'NewConstruction']\n",
    "\n",
    "X = pd.get_dummies(house[predictors], drop_first = True)\n",
    "X['NewConstruction'] = [1 if nc else 0 for nc in X['NewConstruction']]\n",
    "\n",
    "house_full = sm.OLS(house[outcome], X.assign(const=1))\n",
    "results = house_full.fit()\n",
    "results.summary()"
   ]
  },
  {
   "cell_type": "markdown",
   "metadata": {},
   "source": [
    "오컴의 면도날, 모든 것이 동일한 조건에서는 복잡한 모델보다는 단순한 모델을 우선 사용해야 한다. 변수를 추가할수록 학습 데이터에 대해 항상 RMSE는 감소하고 $R^2$은 증가한다. \n",
    "\n",
    "모델 복잡성을 함께 고려하는 한 가지 방법은 수정 R 제곱을 사용하는 것이다.\n",
    "\n",
    "$$ R^2_{adj} = 1-(1-R^2)\\frac{n-1}{n-P-1}$$\n",
    "\n",
    "여기서 n은 레코드 수, P는 모델의 변수 개수를 의미함\n",
    "\n",
    "***AIC를 최소로 하거나 $R^2$을 최대로 하는 모델을 어떻게 찾을 수 있을까?*** 한가지 방법은 ***부분집합회귀(all subset regression)***로서 모든 가능한 모델을 검색하는 방법이다. 계산 비용이 많이 들며, 대용량 데이터와 변수가 많은 문제에 부적합.\n",
    "\n",
    "매력적인 대안은 ***단계적 회귀(Stepwise Regression)***를 사용하는 것이다. 전체 모델부터 시작하여 별로 의미없는 변수들을 연속적으로 삭제할 수 있다(후진제거). 또는 상수 모델에서 시작하여 연속적으로 변수를 추가할 수 있다(전진선택).\n",
    "\n"
   ]
  },
  {
   "cell_type": "code",
   "execution_count": 13,
   "metadata": {
    "scrolled": true
   },
   "outputs": [
    {
     "name": "stdout",
     "output_type": "stream",
     "text": [
      "no display found. Using non-interactive Agg backend\n",
      "Variables: SqFtTotLiving, SqFtLot, Bathrooms, Bedrooms, BldgGrade, NbrLivingUnits, SqFtFinBasement, YrBuilt, YrRenovated, NewConstruction, PropertyType_Single Family, PropertyType_Townhouse\n",
      "Start: score=647988.32, constant\n",
      "Step: score=633013.35, add SqFtTotLiving\n",
      "Step: score=630793.74, add BldgGrade\n",
      "Step: score=628230.29, add YrBuilt\n",
      "Step: score=627784.16, add Bedrooms\n",
      "Step: score=627602.21, add Bathrooms\n",
      "Step: score=627525.65, add PropertyType_Townhouse\n",
      "Step: score=627525.08, add SqFtFinBasement\n",
      "Step: score=627524.98, add PropertyType_Single Family\n",
      "Step: score=627524.98, unchanged None\n",
      "Intercept: 6178645.017\n",
      "Coefficients\n",
      "SqFtTotLiving: 199.27755304201884\n",
      "BldgGrade: 137159.56022619773\n",
      "YrBuilt: -3565.4249392492993\n",
      "Bedrooms: -51947.38367361318\n",
      "Bathrooms: 42396.164527717796\n",
      "PropertyType_Townhouse: 84479.16203300405\n",
      "SqFtFinBasement: 7.046974967553979\n",
      "PropertyType_Single Family: 22912.055187017682\n"
     ]
    }
   ],
   "source": [
    "from dmba import stepwise_selection, forward_selection, backward_elimination,AIC_score\n",
    "y = house[outcome]\n",
    "\n",
    "def train_model(variables):\n",
    "    if len(variables) ==0:\n",
    "        return None\n",
    "    model = LinearRegression()\n",
    "    model.fit(X[variables], y)\n",
    "    return model\n",
    "\n",
    "def score_model(model, variables):\n",
    "    if len(variables) == 0 :\n",
    "        return AIC_score(y, [y.mean()] * len(y), model, df=1)\n",
    "    return AIC_score(y, model.predict(X[variables]), model)\n",
    "\n",
    "best_model, best_variables = stepwise_selection(X.columns, train_model,\n",
    "                                               score_model, verbose=True)\n",
    "\n",
    "print(f'Intercept: {best_model.intercept_:.3f}')\n",
    "print('Coefficients')\n",
    "for name, coef in zip(best_variables, best_model.coef_):\n",
    "    print(f'{name}: {coef}')"
   ]
  },
  {
   "cell_type": "markdown",
   "metadata": {},
   "source": [
    "1. 주어진 변수 집합에 대해 적합 모델을 반환하는 함수를 정의한다.\n",
    "2. 주어진 모델 변수 세트에 대한 점수를 반환하는 함수를 정의한다. 이 경우 dmba 패키지에 구현된 AIC_score를 사용한다."
   ]
  },
  {
   "cell_type": "markdown",
   "metadata": {},
   "source": [
    "### 4-2-5 가중회귀\n",
    "\n",
    "통계학자들은 다양한 목적으로 가중회귀를 사용한다. 데이터 과학자들은 아래 두 가지 점에서 가중회귀의 유용성을 발견할 수 있다.\n",
    "\n",
    "- 서로 다른 관측치를 다른 정밀도로 측정했을 때, 역분산 가중치를 얻을 수 있다. 분산이 높을수록 가중치가 낮다.\n",
    "- 가중치 변수가 집계된 데이터의 각 행이 나타내는 원본 관측치의 수를 인코딩하도록 행이 여러 경우를 의미하는 데이터를 분석할 수 있다.\n",
    "\n"
   ]
  },
  {
   "cell_type": "code",
   "execution_count": 14,
   "metadata": {},
   "outputs": [],
   "source": [
    "house['Year'] = [int(date.split('-')[0]) for date in house.DocumentDate]\n",
    "house['Weight'] = house.Year - 2005"
   ]
  },
  {
   "cell_type": "code",
   "execution_count": 15,
   "metadata": {},
   "outputs": [
    {
     "data": {
      "text/plain": [
       "LinearRegression()"
      ]
     },
     "execution_count": 15,
     "metadata": {},
     "output_type": "execute_result"
    }
   ],
   "source": [
    "# 가중회귀\n",
    "predictors = ['SqFtTotLiving', 'SqFtLot', 'Bathrooms', 'Bedrooms', 'BldgGrade']\n",
    "outcome = 'AdjSalePrice'\n",
    "\n",
    "house_wt = LinearRegression()\n",
    "house_wt.fit(house[predictors], house[outcome], sample_weight = house.Weight)"
   ]
  },
  {
   "cell_type": "markdown",
   "metadata": {},
   "source": [
    "##### 주요개념\n",
    "\n",
    "- 다선형회귀모형은 한 응답변수Y와 여러 개의 예측변수($X_l, ... X_p$) 간의 관계를 나타냄\n",
    "- 모델을 평가하는 가장 중요한 지표는 제곱근평균제곱오차(RMSE)와 R제곱($R^2$)이다.\n",
    "- 계수들의 표준오차는 모델에 대한 변수 기여도의 신뢰도를 측정하는데 사용된다.\n",
    "- 단계적 회귀는 모델을 만드는데 필요한 변수들을 자동으로 결정하는 방법이다.\n",
    "- 가중회귀는 바엉식을 피팅할 때 레코드별로 가중치를 주기위해 사용한다."
   ]
  },
  {
   "cell_type": "markdown",
   "metadata": {},
   "source": [
    "# 4-3 회귀를 이용한 예측\n",
    "\n",
    "데이터 과학에서 회귀의 주된 목적은 예측. 기존의 오랫동안 자리잡은 전통적인 의미의 통게학에서 회귀는 예측보다 설명을 위한 모델링에 더 적합했다.\n",
    "\n",
    "##### 용어 정리\n",
    "- 예측구간(prediction interval): 개별 예측값 주위의 불확실한 구간\n",
    "- 외삽(extrapolation): 모델링에 사용된 데이터 범위를 벗어난 부분까지 모델을 확장하는 것\n",
    "\n",
    "### 4-3-1 외의 위험\n",
    "회귀모형을 데이터 범위를 초과하면서까지 외삽하는데 사용해서는 안 된다. 회귀모형은 충분한 데이터 값이 있는 예측변수에 대해서만 유효하다.\n",
    "\n",
    "### 4-3-2 신뢰구간과 예측구간\n",
    "통계학은 변동성(불확실성)을 이해하고 측정하는 것을 포함한다. 회귀분석 결과에 나오는 t통계량과 p 값은 이 변동성을 다루는 아주 일반적인 방법이고 종종 변수 선택을 위해 활용된다. 이외에 더 유용한 지표로 회귀계수와 예측을 둘러싼 불확실성 구간을 의미하는 신뢰구간이 있다.\n",
    "\n",
    "##### 예측구간이냐 신뢰구간이냐?\n",
    "예측구간은 하나의 값에 대한 불확실성과 관련되는 반면 신뢰구간은 여러 값에서 계산된 평균이나 다른 통계량과 관련된다. 따라서 예측구간은 일반적으로 같은 값에 대해 신뢰구간 보다 훨씬 넓다. \n",
    "\n",
    "##### 주요 개념\n",
    "- 데이터 범위를 벗어나는 외삽은 오류를 유발할 수 있다.\n",
    "- 신뢰구간은 회귀계수 주변의 불확실성을 정량화한다.\n",
    "- 예측구간은 개별 예측값의 불확실성을 정량화한다."
   ]
  },
  {
   "cell_type": "markdown",
   "metadata": {},
   "source": [
    "# 4-4 회귀에서의 요인변수\n",
    "\n",
    "범주형변수(요인변수)는 개수가 제한된 이산값을 취한다. 지표변수라고도 불리는 이진변수(예/아니오)는 요인변수의 특수한 경우다. 회귀분석에는 수치입력이 필요하기 때문에 모델에 사용할 수 있도록 요인변수를 다시 수치화해야 한다. 이를 위한 가장 일반적인 방법은 변수를 이진 가변수들의 집합으로 변환하는 것이다.\n",
    "\n",
    "##### 용어 정리\n",
    "- 가변수(dummy variable): \n",
    "    - 회귀나 다른 모델에서의 요인 데이터를 사용하기 위해 0과 1의 이진변수로 부호화한 변수\n",
    "\n",
    "- 기준 부호화(reference coding): \n",
    "    - 통계학자들이 많이 사용하는 부호화 형태 여기서 한 요인을 기준으로 하고 다른 요인들이 이 기준에 따라 비교할 수 있도록 한다. (유의어: 처리 부호화)\n",
    "    \n",
    "- 원-핫 인코딩(One-Hot Encoding):\n",
    "    - 머신러닝 분야에서 많이 사용되는 부호화 모든 요인 수준이 계속 유지된다. 어떤 머신러닝 알고리즘에서는 유용한 반면 다중선형회귀에는 적합하지 않다.\n",
    "    \n",
    "- 편차 부호화(Deviation Coding):\n",
    "    - 기준 수준과는 반대로 전체 평균에 대해 각 수준을 비교하는 부호화 방법(유의어: 총합 대비)\n"
   ]
  },
  {
   "cell_type": "markdown",
   "metadata": {},
   "source": [
    "### 4-4-1 가변수 표현\n"
   ]
  },
  {
   "cell_type": "code",
   "execution_count": 16,
   "metadata": {},
   "outputs": [
    {
     "data": {
      "text/plain": [
       "1        Multiplex\n",
       "2    Single Family\n",
       "3    Single Family\n",
       "4    Single Family\n",
       "5    Single Family\n",
       "Name: PropertyType, dtype: object"
      ]
     },
     "execution_count": 16,
     "metadata": {},
     "output_type": "execute_result"
    }
   ],
   "source": [
    "house.PropertyType.head()"
   ]
  },
  {
   "cell_type": "markdown",
   "metadata": {},
   "source": [
    "이떄 가능한 값은 Multiplex, Single Family, Townhouse 세가지다. 이 요인변수를 사용하기 위해 이진변수들로 변환해보자. "
   ]
  },
  {
   "cell_type": "code",
   "execution_count": 17,
   "metadata": {},
   "outputs": [
    {
     "data": {
      "text/html": [
       "<div>\n",
       "<style scoped>\n",
       "    .dataframe tbody tr th:only-of-type {\n",
       "        vertical-align: middle;\n",
       "    }\n",
       "\n",
       "    .dataframe tbody tr th {\n",
       "        vertical-align: top;\n",
       "    }\n",
       "\n",
       "    .dataframe thead th {\n",
       "        text-align: right;\n",
       "    }\n",
       "</style>\n",
       "<table border=\"1\" class=\"dataframe\">\n",
       "  <thead>\n",
       "    <tr style=\"text-align: right;\">\n",
       "      <th></th>\n",
       "      <th>Multiplex</th>\n",
       "      <th>Single Family</th>\n",
       "      <th>Townhouse</th>\n",
       "    </tr>\n",
       "  </thead>\n",
       "  <tbody>\n",
       "    <tr>\n",
       "      <th>1</th>\n",
       "      <td>1</td>\n",
       "      <td>0</td>\n",
       "      <td>0</td>\n",
       "    </tr>\n",
       "    <tr>\n",
       "      <th>2</th>\n",
       "      <td>0</td>\n",
       "      <td>1</td>\n",
       "      <td>0</td>\n",
       "    </tr>\n",
       "    <tr>\n",
       "      <th>3</th>\n",
       "      <td>0</td>\n",
       "      <td>1</td>\n",
       "      <td>0</td>\n",
       "    </tr>\n",
       "    <tr>\n",
       "      <th>4</th>\n",
       "      <td>0</td>\n",
       "      <td>1</td>\n",
       "      <td>0</td>\n",
       "    </tr>\n",
       "    <tr>\n",
       "      <th>5</th>\n",
       "      <td>0</td>\n",
       "      <td>1</td>\n",
       "      <td>0</td>\n",
       "    </tr>\n",
       "  </tbody>\n",
       "</table>\n",
       "</div>"
      ],
      "text/plain": [
       "   Multiplex  Single Family  Townhouse\n",
       "1          1              0          0\n",
       "2          0              1          0\n",
       "3          0              1          0\n",
       "4          0              1          0\n",
       "5          0              1          0"
      ]
     },
     "execution_count": 17,
     "metadata": {},
     "output_type": "execute_result"
    }
   ],
   "source": [
    "pd.get_dummies(house['PropertyType']).head()"
   ]
  },
  {
   "cell_type": "code",
   "execution_count": 18,
   "metadata": {},
   "outputs": [
    {
     "data": {
      "text/html": [
       "<div>\n",
       "<style scoped>\n",
       "    .dataframe tbody tr th:only-of-type {\n",
       "        vertical-align: middle;\n",
       "    }\n",
       "\n",
       "    .dataframe tbody tr th {\n",
       "        vertical-align: top;\n",
       "    }\n",
       "\n",
       "    .dataframe thead th {\n",
       "        text-align: right;\n",
       "    }\n",
       "</style>\n",
       "<table border=\"1\" class=\"dataframe\">\n",
       "  <thead>\n",
       "    <tr style=\"text-align: right;\">\n",
       "      <th></th>\n",
       "      <th>Single Family</th>\n",
       "      <th>Townhouse</th>\n",
       "    </tr>\n",
       "  </thead>\n",
       "  <tbody>\n",
       "    <tr>\n",
       "      <th>1</th>\n",
       "      <td>0</td>\n",
       "      <td>0</td>\n",
       "    </tr>\n",
       "    <tr>\n",
       "      <th>2</th>\n",
       "      <td>1</td>\n",
       "      <td>0</td>\n",
       "    </tr>\n",
       "    <tr>\n",
       "      <th>3</th>\n",
       "      <td>1</td>\n",
       "      <td>0</td>\n",
       "    </tr>\n",
       "    <tr>\n",
       "      <th>4</th>\n",
       "      <td>1</td>\n",
       "      <td>0</td>\n",
       "    </tr>\n",
       "    <tr>\n",
       "      <th>5</th>\n",
       "      <td>1</td>\n",
       "      <td>0</td>\n",
       "    </tr>\n",
       "  </tbody>\n",
       "</table>\n",
       "</div>"
      ],
      "text/plain": [
       "   Single Family  Townhouse\n",
       "1              0          0\n",
       "2              1          0\n",
       "3              1          0\n",
       "4              1          0\n",
       "5              1          0"
      ]
     },
     "execution_count": 18,
     "metadata": {},
     "output_type": "execute_result"
    }
   ],
   "source": [
    "# 기본적으로 범주형 변수의 원-핫인코딩을 변환한다.\n",
    "pd.get_dummies(house['PropertyType']).head()\n",
    "\n",
    "# 키워드 인수 drop_first는 P-1개의 열을 반환한다. (다중공선성 피하기)\n",
    "pd.get_dummies(house['PropertyType'], drop_first=True).head()"
   ]
  },
  {
   "cell_type": "markdown",
   "metadata": {},
   "source": [
    "KNN이나 트리모델 같은 머신러닝 알고리즘에서 요인변수를 표현하는데 원-핫 인코딩을 사용한다.\n",
    "\n",
    "회귀분석에서 P개의 개별 수준을 갖는 요인변수는 보통 p-1개의 열을 갖는 행렬로 표시된다. 회귀모형에 일반적으로 절편이 포함되기 때문이다. "
   ]
  },
  {
   "cell_type": "markdown",
   "metadata": {},
   "source": [
    "get_dummies 메서드는 첫 번째 요소를 참조로 제외하기 때문에 선택적 키워드 인수 drop_first를 사용한다."
   ]
  },
  {
   "cell_type": "code",
   "execution_count": 19,
   "metadata": {},
   "outputs": [
    {
     "name": "stdout",
     "output_type": "stream",
     "text": [
      "Intercept: -446841.366\n",
      "Coefficients:\n",
      "- SqFtTotLiving: 223.37362892503822\n",
      "- SqFtLot: -0.0703679813681255\n",
      "- Bathrooms: -15979.013473415183\n",
      "- Bedrooms: -50889.73218483028\n",
      "- BldgGrade: 109416.3051614618\n",
      "- PropertyType_Single Family: -84678.21629549256\n",
      "- PropertyType_Townhouse: -115121.97921609186\n"
     ]
    }
   ],
   "source": [
    "predictors = ['SqFtTotLiving', 'SqFtLot', 'Bathrooms', 'Bedrooms',\n",
    "             'BldgGrade', 'PropertyType']\n",
    "\n",
    "X = pd.get_dummies(house[predictors], drop_first = True)\n",
    "\n",
    "house_lm_factor = LinearRegression()\n",
    "house_lm_factor.fit(X, house[outcome])\n",
    "\n",
    "print(f'Intercept: {house_lm_factor.intercept_:.3f}')\n",
    "print('Coefficients:')\n",
    "for name, coef in zip(X.columns, house_lm_factor.coef_):\n",
    "    print(f'- {name}: {coef}')"
   ]
  },
  {
   "cell_type": "markdown",
   "metadata": {},
   "source": [
    "##### 그 밖의 요인변수 코딩법들\n",
    "\n",
    "요인 변수를 인코딩하는 데는 ***대비 부호화(Contrast Coding)*** 시스템이라는 다른 방법이 있다. 예를 들어 ***총합 대비***라고도 하는 ***편차 부호화*** 방법은 각 수준을 전반적인 평균과 비교한다. 또 다른 대비 방법은 ***다항식 부호화(Polynomial Coding)***이며 순서가 있는 요인변수에 적합하다. \n",
    "\n",
    "일반적으로 기준 코딩이나 원-핫인코딩 이외에 다른 유형의 코딩을 접할일이 거의 없다."
   ]
  },
  {
   "cell_type": "markdown",
   "metadata": {},
   "source": [
    "### 4-4-2 다수의 수준을 갖는 요인변수들\n",
    "\n"
   ]
  },
  {
   "cell_type": "code",
   "execution_count": 20,
   "metadata": {},
   "outputs": [
    {
     "data": {
      "text/html": [
       "<div>\n",
       "<style scoped>\n",
       "    .dataframe tbody tr th:only-of-type {\n",
       "        vertical-align: middle;\n",
       "    }\n",
       "\n",
       "    .dataframe tbody tr th {\n",
       "        vertical-align: top;\n",
       "    }\n",
       "\n",
       "    .dataframe thead th {\n",
       "        text-align: right;\n",
       "    }\n",
       "</style>\n",
       "<table border=\"1\" class=\"dataframe\">\n",
       "  <thead>\n",
       "    <tr style=\"text-align: right;\">\n",
       "      <th></th>\n",
       "      <th>98038</th>\n",
       "      <th>98103</th>\n",
       "      <th>98042</th>\n",
       "      <th>98115</th>\n",
       "      <th>98117</th>\n",
       "      <th>98052</th>\n",
       "      <th>98034</th>\n",
       "      <th>98033</th>\n",
       "      <th>98059</th>\n",
       "      <th>98074</th>\n",
       "      <th>...</th>\n",
       "      <th>98051</th>\n",
       "      <th>98024</th>\n",
       "      <th>98354</th>\n",
       "      <th>98050</th>\n",
       "      <th>98057</th>\n",
       "      <th>98288</th>\n",
       "      <th>98224</th>\n",
       "      <th>98043</th>\n",
       "      <th>98068</th>\n",
       "      <th>98113</th>\n",
       "    </tr>\n",
       "  </thead>\n",
       "  <tbody>\n",
       "    <tr>\n",
       "      <th>ZipCode</th>\n",
       "      <td>788</td>\n",
       "      <td>671</td>\n",
       "      <td>641</td>\n",
       "      <td>620</td>\n",
       "      <td>619</td>\n",
       "      <td>614</td>\n",
       "      <td>575</td>\n",
       "      <td>517</td>\n",
       "      <td>513</td>\n",
       "      <td>502</td>\n",
       "      <td>...</td>\n",
       "      <td>32</td>\n",
       "      <td>31</td>\n",
       "      <td>9</td>\n",
       "      <td>7</td>\n",
       "      <td>4</td>\n",
       "      <td>4</td>\n",
       "      <td>3</td>\n",
       "      <td>1</td>\n",
       "      <td>1</td>\n",
       "      <td>1</td>\n",
       "    </tr>\n",
       "  </tbody>\n",
       "</table>\n",
       "<p>1 rows × 80 columns</p>\n",
       "</div>"
      ],
      "text/plain": [
       "         98038  98103  98042  98115  98117  98052  98034  98033  98059  98074  \\\n",
       "ZipCode    788    671    641    620    619    614    575    517    513    502   \n",
       "\n",
       "         ...  98051  98024  98354  98050  98057  98288  98224  98043  98068  \\\n",
       "ZipCode  ...     32     31      9      7      4      4      3      1      1   \n",
       "\n",
       "         98113  \n",
       "ZipCode      1  \n",
       "\n",
       "[1 rows x 80 columns]"
      ]
     },
     "execution_count": 20,
     "metadata": {},
     "output_type": "execute_result"
    }
   ],
   "source": [
    "pd.DataFrame(house['ZipCode'].value_counts()).transpose()"
   ]
  },
  {
   "cell_type": "code",
   "execution_count": 21,
   "metadata": {},
   "outputs": [
    {
     "data": {
      "text/plain": [
       "LinearRegression()"
      ]
     },
     "execution_count": 21,
     "metadata": {},
     "output_type": "execute_result"
    }
   ],
   "source": [
    "predictors = ['SqFtTotLiving', 'SqFtLot', 'Bathrooms', \n",
    "              'Bedrooms', 'BldgGrade']\n",
    "outcome = 'AdjSalePrice'\n",
    "\n",
    "house_lm = LinearRegression()\n",
    "house_lm.fit(house[predictors], house[outcome])\n"
   ]
  },
  {
   "cell_type": "markdown",
   "metadata": {},
   "source": [
    "ZipCode는 주택 가격에 대한 위치의 효과를 볼 수 있는 중요한 변수이다. 다만 모든 수준을 포함하려면 자유도 79에 해당하는 79개의 계수가 필요하다. \n",
    "\n",
    "대안은 매매 가격과 같은 다른 변수에 따라 우편번호를 그룹으로 묶는 것이다. 아니면 초기 모델의 잔차를 사용하여 우편번호 그룹을 만드는 방법도 좋다.\n",
    "\n",
    "80개의 우편번호를 house_lm 회귀 결과의 잔차값의 중간값을 기준으로 5개의 그룹으로 통합한다."
   ]
  },
  {
   "cell_type": "code",
   "execution_count": 22,
   "metadata": {
    "scrolled": true
   },
   "outputs": [],
   "source": [
    "zip_groups = pd.DataFrame([\n",
    "    *pd.DataFrame({\n",
    "        'ZipCode': house['ZipCode'],\n",
    "        'residual' : house[outcome] - house_lm.predict(house[predictors]),\n",
    "    })\n",
    "    .groupby(['ZipCode'])\n",
    "    .apply(lambda x: {\n",
    "        'ZipCode': x.iloc[0,0],\n",
    "        'count': len(x),\n",
    "        'median_residual': x.residual.median()\n",
    "    })\n",
    "]).sort_values('median_residual')    \n",
    "\n",
    "zip_groups['cum_count'] = np.cumsum(zip_groups['count'])\n",
    "zip_groups['ZipGroup'] = pd.qcut(zip_groups['cum_count'], 5, labels=False,\n",
    "                                retbins=False)\n",
    "\n",
    "to_join = zip_groups[['ZipCode', 'ZipGroup']].set_index('ZipCode')\n",
    "house = house.join(to_join, on= 'ZipCode')\n",
    "house['ZipGroup'] = house['ZipGroup'].astype('category')"
   ]
  },
  {
   "cell_type": "markdown",
   "metadata": {},
   "source": [
    "### 4-4-3 순서가 있는 요인변수\n",
    "\n",
    "일부 요인변수는 요인의 수준이 순서를 갖는다. 이것을 ***순서 요인변수(ordered factor variable)*** 또는 ***순서 범주형 변수(ordered categorical variable)***라고 한다. \n",
    "\n",
    "예를 들어 대출 등급은 A,B,C 등이 될 수 있다. 각 등급은 이전 등급보다 위험이 더 크다. 순서 요인변수는 일반적으로 숫자 값으로 변환하여 그대로 사용할 수 있다. 예를 들면 변수 BlgdGrade는 순서 요인변수이다. \n",
    "\n",
    "##### 주요 개념\n",
    "- 요인변수는 회귀를 위해 수치형 변수로 변환해야 한다.\n",
    "- 요인변수를 P개의 개별 값으로 인코딩하기 위한 가장 흔한 방법은 P-1개의 가변수를 만들어 사용하는 것\n",
    "- 다수의 수준을 갖는 요인변수의 경우 더 작은 수의 수준을 갖는 변수가 되도록 수준들을 통합해야 한다.\n",
    "- 순서를 갖는 요인변수의 경우 수치형 변수로 변환하여 사용할 수 있따."
   ]
  },
  {
   "cell_type": "markdown",
   "metadata": {},
   "source": [
    "# 4-5 회귀방정식 해석\n",
    "\n",
    "데이터 과학에서 회귀의 가장 중요한 용도는 일부 종속변수(결과변수)를 예측하는 것이다. 하지만 때로는 예측변수와 결과 간 관계의 본질을 이해하기 위해 방정식 자체로부터 통차을 얻는 것이 중요할 떄도 있다.\n",
    "\n",
    "##### 용어 정리\n",
    "- 변수 간 상관(correlated Variables): \n",
    "    - 변수들이 같은 방향으로 움직이려는 경향을 가짐. 예측변수끼리 서로 높은 상관성을 가질 때는 개별 계수를 해석하는 것이 어렵다.\n",
    "    \n",
    "- 다중공선성(Multicollinearity):\n",
    "    - 예측변수들이 완벽하거나 거의 완벽에 가까운 상관성을 갖는다고 할 때 회귀는 불안정하며 계산이 불가능하다(유의어: 공선성_collinearity)\n",
    "    \n",
    "- 교란변수(confounding Variable):\n",
    "    - 중요한 예측변수이지만 회귀방정식에 누락되어 결과를 잘못되게 이끄는 변수\n",
    "    \n",
    "- 주효과(main effect):\n",
    "    - 다른 변수들과 독립된, 하나의 예측변수와 결과변수 사이의 관계\n",
    "    \n",
    "- 상호작용(interaction):\n",
    "    - 둘 이상의 예측변수와 응답변수 사이의 상호 의존적인 관계\n",
    "    \n",
    "### 4-5-1 예측변수 간 상관\n",
    "다중회귀분석에서 예측변수는 종종 서로 상관성이 있다. "
   ]
  },
  {
   "cell_type": "code",
   "execution_count": 23,
   "metadata": {},
   "outputs": [
    {
     "name": "stdout",
     "output_type": "stream",
     "text": [
      "Intercept: 6178645.017\n",
      "Coefficients: \n",
      "- SqFtTotLiving: 199.27755304201884\n",
      "- BldgGrade: 137159.56022619773\n",
      "- YrBuilt: -3565.4249392492993\n",
      "- Bedrooms: -51947.38367361318\n",
      "- Bathrooms: 42396.164527717796\n",
      "- PropertyType_Townhouse: 84479.16203300405\n",
      "- SqFtFinBasement: 7.046974967553979\n",
      "- PropertyType_Single Family: 22912.055187017682\n"
     ]
    }
   ],
   "source": [
    "print(f'Intercept: {best_model.intercept_:.3f}')\n",
    "print('Coefficients: ')\n",
    "for name, coef in zip(best_variables, best_model.coef_):\n",
    "    print(f'- {name}: {coef}')"
   ]
  },
  {
   "cell_type": "code",
   "execution_count": 24,
   "metadata": {},
   "outputs": [
    {
     "data": {
      "text/plain": [
       "LinearRegression()"
      ]
     },
     "execution_count": 24,
     "metadata": {},
     "output_type": "execute_result"
    }
   ],
   "source": [
    "predictors = ['Bedrooms', 'BldgGrade', 'PropertyType', 'YrBuilt']\n",
    "outcome = 'AdjSalePrice'\n",
    "\n",
    "X = pd.get_dummies(house[predictors], drop_first=True)\n",
    "\n",
    "reduced_lm = LinearRegression()\n",
    "reduced_lm.fit(X, house[outcome])"
   ]
  },
  {
   "cell_type": "markdown",
   "metadata": {},
   "source": [
    "변수간 상관관계는 회귀계수를 해석할 때 고려해야 할 여러 문제들 가운데 한 가지일 뿐이다. 모델 house_lm에는 주택 위치를 고려할 변수가 따로 없는 상태에서 서로 다른 유형의 지역들 정보가 섞여있다. 이 경우, 위치 정보는 ***교란변수***일 수 있다. \n",
    "\n",
    "    \n",
    "##### 교란변수(confounding Variable):\n",
    "- 중요한 예측변수이지만 회귀방정식에 누락되어 결과를 잘못되게 이끄는 변수\n",
    "    "
   ]
  },
  {
   "cell_type": "markdown",
   "metadata": {},
   "source": [
    "### 4-5-2 다중공선성\n",
    "\n",
    "변수 상관의 극단적인 경우 다중공선성이 나타난다. ***예측변수 사이의 중복성을 판단***하는 조건이 된다. 완전 다중공선성은 한 예측변수가 다른 변수들의 선형결합으로 표현된다는 것을 의미한다. \n",
    "\n",
    "##### 다중공선성은 다음 경우 발생한다.\n",
    "1. 오류로 인해 한 변수가 여러 번 포함된 경우\n",
    "2. 요인변수로부터 P-1개가 아닌 P개의 가변수가 만들어진 경우(4-4절 참고)\n",
    "3. 두 변수가 서로 거의 완벽하게 상관성이 있는 경우\n",
    "\n",
    "회귀분석에서는 다중공선성 문제를 반드시 해결해야 한다. 다중공선성이 사라질 때까지 변수를 제거해야 한다. \n",
    "\n",
    "##### 다중공선성은 트리, 클러스터링, 최근접 이웃 알고리즘 등 비선형회귀 유형이 아닌 방법에서는 그다지 문제가 되지 않으며, 이들 방법에서는 P-1개 대신 P개의 가변수를 유지하는 것이 좋다.\n",
    "\n"
   ]
  },
  {
   "cell_type": "markdown",
   "metadata": {},
   "source": [
    "### 4-5-3 교란변수\n",
    "\n",
    "- 변수상관: 응답변수와 비슷한 예측 관계를 갖는 다른 변수가 포함되어 생기는 문제\n",
    "- 교란변수: 회귀방정식에 중요한 변수가 포함되지 못해 생기는 누락의 문제\n",
    "\n",
    "예를 들면 주택 가격에 아주 결정적인 위치를 나타내는 변수가 포함되어 있지 않다. 위치정보를 고려하기 위해 우편번호를 가장 싼 지역(1)에서 가장 비싼 지역(5)까지 5개의 그룹으로 분류하는 새로운 변수 ***ZipGroup***을 포함해보자"
   ]
  },
  {
   "cell_type": "code",
   "execution_count": 25,
   "metadata": {},
   "outputs": [
    {
     "name": "stdout",
     "output_type": "stream",
     "text": [
      "Intercept: -666637.469\n",
      "Cefficient: \n",
      "- SqFtTotLiving: 210.61266005580154\n",
      "- SqFtLot: 0.45498713854659023\n",
      "- Bathrooms: 5928.425640001688\n",
      "- Bedrooms: -41682.87184074478\n",
      "- BldgGrade: 98541.18352725968\n",
      "- PropertyType_Single Family: 19323.625287919207\n",
      "- PropertyType_Townhouse: -78198.720927624\n",
      "- ZipGroup_1: 53317.17330659813\n",
      "- ZipGroup_2: 116251.58883563554\n",
      "- ZipGroup_3: 178360.53178793375\n",
      "- ZipGroup_4: 338408.60185652\n"
     ]
    }
   ],
   "source": [
    "predictors = ['SqFtTotLiving', 'SqFtLot', 'Bathrooms' ,'Bedrooms',\n",
    "             'BldgGrade', 'PropertyType', 'ZipGroup']\n",
    "outcome = 'AdjSalePrice'\n",
    "\n",
    "X = pd.get_dummies(house[predictors], drop_first = True)\n",
    "\n",
    "confounding_lm = LinearRegression()\n",
    "confounding_lm.fit(X, house[outcome])\n",
    "\n",
    "print(f'Intercept: {confounding_lm.intercept_:.3f}')\n",
    "print('Cefficient: ')\n",
    "for name, coef in zip(X.columns, confounding_lm.coef_):\n",
    "    print(f'- {name}: {coef}')"
   ]
  },
  {
   "cell_type": "markdown",
   "metadata": {},
   "source": [
    "ZipGroup이 분명히 중요한 변수라는 것을 알 수 있다. 가장 비싼 우편번호 그룹의 주택 가격이 340,000달러나 더 높다. SqFtLot와 Bathrooms의 계수는 이제 양수다. "
   ]
  },
  {
   "cell_type": "markdown",
   "metadata": {},
   "source": [
    "### 4-5-4 상호작용과 주효과\n",
    "\n",
    "통계학자는 주효과(독립변수)와 주효과 사이의 상호작용을 구별하기 좋아한다. 주효과는 회귀방정식에서 종종 예측변수라고 불린다. 예측변수와 응답변수 간의 관계가 다른 예측변수들에 대해 독립적이라는 암묵적인 가정이 있다. (종종 사실이 아니다.)\n",
    "\n",
    "파이선에서 상호작용이 있는 선형회귀모형을 학습시키기 위해 statsmodels 패키지를 사용한다."
   ]
  },
  {
   "cell_type": "code",
   "execution_count": 26,
   "metadata": {},
   "outputs": [
    {
     "data": {
      "text/html": [
       "<table class=\"simpletable\">\n",
       "<caption>OLS Regression Results</caption>\n",
       "<tr>\n",
       "  <th>Dep. Variable:</th>      <td>AdjSalePrice</td>   <th>  R-squared:         </th>  <td>   0.680</td>  \n",
       "</tr>\n",
       "<tr>\n",
       "  <th>Model:</th>                   <td>OLS</td>       <th>  Adj. R-squared:    </th>  <td>   0.680</td>  \n",
       "</tr>\n",
       "<tr>\n",
       "  <th>Method:</th>             <td>Least Squares</td>  <th>  F-statistic:       </th>  <td>   3439.</td>  \n",
       "</tr>\n",
       "<tr>\n",
       "  <th>Date:</th>             <td>Mon, 20 Jun 2022</td> <th>  Prob (F-statistic):</th>   <td>  0.00</td>   \n",
       "</tr>\n",
       "<tr>\n",
       "  <th>Time:</th>                 <td>23:21:18</td>     <th>  Log-Likelihood:    </th> <td>-3.1107e+05</td>\n",
       "</tr>\n",
       "<tr>\n",
       "  <th>No. Observations:</th>      <td> 22687</td>      <th>  AIC:               </th>  <td>6.222e+05</td> \n",
       "</tr>\n",
       "<tr>\n",
       "  <th>Df Residuals:</th>          <td> 22672</td>      <th>  BIC:               </th>  <td>6.223e+05</td> \n",
       "</tr>\n",
       "<tr>\n",
       "  <th>Df Model:</th>              <td>    14</td>      <th>                     </th>      <td> </td>     \n",
       "</tr>\n",
       "<tr>\n",
       "  <th>Covariance Type:</th>      <td>nonrobust</td>    <th>                     </th>      <td> </td>     \n",
       "</tr>\n",
       "</table>\n",
       "<table class=\"simpletable\">\n",
       "<tr>\n",
       "                <td></td>                   <th>coef</th>     <th>std err</th>      <th>t</th>      <th>P>|t|</th>  <th>[0.025</th>    <th>0.975]</th>  \n",
       "</tr>\n",
       "<tr>\n",
       "  <th>Intercept</th>                     <td>-4.825e+05</td> <td> 2.06e+04</td> <td>  -23.471</td> <td> 0.000</td> <td>-5.23e+05</td> <td>-4.42e+05</td>\n",
       "</tr>\n",
       "<tr>\n",
       "  <th>ZipGroup[T.1]</th>                 <td>-6105.0739</td> <td> 1.35e+04</td> <td>   -0.454</td> <td> 0.650</td> <td>-3.25e+04</td> <td> 2.03e+04</td>\n",
       "</tr>\n",
       "<tr>\n",
       "  <th>ZipGroup[T.2]</th>                 <td> 1.694e+04</td> <td> 1.19e+04</td> <td>    1.426</td> <td> 0.154</td> <td>-6340.594</td> <td> 4.02e+04</td>\n",
       "</tr>\n",
       "<tr>\n",
       "  <th>ZipGroup[T.3]</th>                 <td> 2.142e+04</td> <td> 1.21e+04</td> <td>    1.766</td> <td> 0.077</td> <td>-2348.013</td> <td> 4.52e+04</td>\n",
       "</tr>\n",
       "<tr>\n",
       "  <th>ZipGroup[T.4]</th>                 <td>-1.475e+05</td> <td> 1.13e+04</td> <td>  -13.024</td> <td> 0.000</td> <td> -1.7e+05</td> <td>-1.25e+05</td>\n",
       "</tr>\n",
       "<tr>\n",
       "  <th>PropertyType[T.Single Family]</th> <td>  1.41e+04</td> <td>  1.4e+04</td> <td>    1.009</td> <td> 0.313</td> <td>-1.33e+04</td> <td> 4.15e+04</td>\n",
       "</tr>\n",
       "<tr>\n",
       "  <th>PropertyType[T.Townhouse]</th>     <td>-6.194e+04</td> <td> 1.52e+04</td> <td>   -4.077</td> <td> 0.000</td> <td>-9.17e+04</td> <td>-3.22e+04</td>\n",
       "</tr>\n",
       "<tr>\n",
       "  <th>SqFtTotLiving</th>                 <td>  122.4945</td> <td>    4.847</td> <td>   25.274</td> <td> 0.000</td> <td>  112.995</td> <td>  131.994</td>\n",
       "</tr>\n",
       "<tr>\n",
       "  <th>SqFtTotLiving:ZipGroup[T.1]</th>   <td>   29.9228</td> <td>    5.730</td> <td>    5.222</td> <td> 0.000</td> <td>   18.691</td> <td>   41.154</td>\n",
       "</tr>\n",
       "<tr>\n",
       "  <th>SqFtTotLiving:ZipGroup[T.2]</th>   <td>   43.3424</td> <td>    5.205</td> <td>    8.327</td> <td> 0.000</td> <td>   33.140</td> <td>   53.545</td>\n",
       "</tr>\n",
       "<tr>\n",
       "  <th>SqFtTotLiving:ZipGroup[T.3]</th>   <td>   67.5657</td> <td>    5.639</td> <td>   11.982</td> <td> 0.000</td> <td>   56.513</td> <td>   78.618</td>\n",
       "</tr>\n",
       "<tr>\n",
       "  <th>SqFtTotLiving:ZipGroup[T.4]</th>   <td>  222.5801</td> <td>    4.829</td> <td>   46.097</td> <td> 0.000</td> <td>  213.116</td> <td>  232.044</td>\n",
       "</tr>\n",
       "<tr>\n",
       "  <th>Bathrooms</th>                     <td>-5271.2215</td> <td> 3212.267</td> <td>   -1.641</td> <td> 0.101</td> <td>-1.16e+04</td> <td> 1025.043</td>\n",
       "</tr>\n",
       "<tr>\n",
       "  <th>Bedrooms</th>                      <td>-4.365e+04</td> <td> 2123.916</td> <td>  -20.550</td> <td> 0.000</td> <td>-4.78e+04</td> <td>-3.95e+04</td>\n",
       "</tr>\n",
       "<tr>\n",
       "  <th>BldgGrade</th>                     <td> 1.048e+05</td> <td> 2077.463</td> <td>   50.450</td> <td> 0.000</td> <td> 1.01e+05</td> <td> 1.09e+05</td>\n",
       "</tr>\n",
       "</table>\n",
       "<table class=\"simpletable\">\n",
       "<tr>\n",
       "  <th>Omnibus:</th>       <td>30888.168</td> <th>  Durbin-Watson:     </th>   <td>   1.583</td>  \n",
       "</tr>\n",
       "<tr>\n",
       "  <th>Prob(Omnibus):</th>  <td> 0.000</td>   <th>  Jarque-Bera (JB):  </th> <td>33892569.560</td>\n",
       "</tr>\n",
       "<tr>\n",
       "  <th>Skew:</th>           <td> 7.265</td>   <th>  Prob(JB):          </th>   <td>    0.00</td>  \n",
       "</tr>\n",
       "<tr>\n",
       "  <th>Kurtosis:</th>       <td>191.794</td>  <th>  Cond. No.          </th>   <td>4.55e+04</td>  \n",
       "</tr>\n",
       "</table><br/><br/>Notes:<br/>[1] Standard Errors assume that the covariance matrix of the errors is correctly specified.<br/>[2] The condition number is large, 4.55e+04. This might indicate that there are<br/>strong multicollinearity or other numerical problems."
      ],
      "text/plain": [
       "<class 'statsmodels.iolib.summary.Summary'>\n",
       "\"\"\"\n",
       "                            OLS Regression Results                            \n",
       "==============================================================================\n",
       "Dep. Variable:           AdjSalePrice   R-squared:                       0.680\n",
       "Model:                            OLS   Adj. R-squared:                  0.680\n",
       "Method:                 Least Squares   F-statistic:                     3439.\n",
       "Date:                Mon, 20 Jun 2022   Prob (F-statistic):               0.00\n",
       "Time:                        23:21:18   Log-Likelihood:            -3.1107e+05\n",
       "No. Observations:               22687   AIC:                         6.222e+05\n",
       "Df Residuals:                   22672   BIC:                         6.223e+05\n",
       "Df Model:                          14                                         \n",
       "Covariance Type:            nonrobust                                         \n",
       "=================================================================================================\n",
       "                                    coef    std err          t      P>|t|      [0.025      0.975]\n",
       "-------------------------------------------------------------------------------------------------\n",
       "Intercept                     -4.825e+05   2.06e+04    -23.471      0.000   -5.23e+05   -4.42e+05\n",
       "ZipGroup[T.1]                 -6105.0739   1.35e+04     -0.454      0.650   -3.25e+04    2.03e+04\n",
       "ZipGroup[T.2]                  1.694e+04   1.19e+04      1.426      0.154   -6340.594    4.02e+04\n",
       "ZipGroup[T.3]                  2.142e+04   1.21e+04      1.766      0.077   -2348.013    4.52e+04\n",
       "ZipGroup[T.4]                 -1.475e+05   1.13e+04    -13.024      0.000    -1.7e+05   -1.25e+05\n",
       "PropertyType[T.Single Family]   1.41e+04    1.4e+04      1.009      0.313   -1.33e+04    4.15e+04\n",
       "PropertyType[T.Townhouse]     -6.194e+04   1.52e+04     -4.077      0.000   -9.17e+04   -3.22e+04\n",
       "SqFtTotLiving                   122.4945      4.847     25.274      0.000     112.995     131.994\n",
       "SqFtTotLiving:ZipGroup[T.1]      29.9228      5.730      5.222      0.000      18.691      41.154\n",
       "SqFtTotLiving:ZipGroup[T.2]      43.3424      5.205      8.327      0.000      33.140      53.545\n",
       "SqFtTotLiving:ZipGroup[T.3]      67.5657      5.639     11.982      0.000      56.513      78.618\n",
       "SqFtTotLiving:ZipGroup[T.4]     222.5801      4.829     46.097      0.000     213.116     232.044\n",
       "Bathrooms                     -5271.2215   3212.267     -1.641      0.101   -1.16e+04    1025.043\n",
       "Bedrooms                      -4.365e+04   2123.916    -20.550      0.000   -4.78e+04   -3.95e+04\n",
       "BldgGrade                      1.048e+05   2077.463     50.450      0.000    1.01e+05    1.09e+05\n",
       "==============================================================================\n",
       "Omnibus:                    30888.168   Durbin-Watson:                   1.583\n",
       "Prob(Omnibus):                  0.000   Jarque-Bera (JB):         33892569.560\n",
       "Skew:                           7.265   Prob(JB):                         0.00\n",
       "Kurtosis:                     191.794   Cond. No.                     4.55e+04\n",
       "==============================================================================\n",
       "\n",
       "Notes:\n",
       "[1] Standard Errors assume that the covariance matrix of the errors is correctly specified.\n",
       "[2] The condition number is large, 4.55e+04. This might indicate that there are\n",
       "strong multicollinearity or other numerical problems.\n",
       "\"\"\""
      ]
     },
     "execution_count": 26,
     "metadata": {},
     "output_type": "execute_result"
    }
   ],
   "source": [
    "import statsmodels.api as sm\n",
    "import statsmodels.formula.api as smf\n",
    "\n",
    "model = smf.ols(formula = 'AdjSalePrice ~ SqFtTotLiving*ZipGroup + \\\n",
    "                Bathrooms + Bedrooms + BldgGrade + PropertyType' , data= house)\n",
    "\n",
    "results = model.fit()\n",
    "results.summary()"
   ]
  },
  {
   "cell_type": "markdown",
   "metadata": {},
   "source": [
    "statsmodels 패키지는 범주형 변수(ZipGroup[T.1]. PropertyType[T.SingleFamily]]) 및 상호작용 관련 항 (예를 들면 SqFtTotLiving:ZipGroup[T.1])을 처리한다. \n",
    "\n",
    "##### 상호작용 항들을 이용한 모델 선택\n",
    "다수의 변수가 존재하는 문제의 경우 모델에서 어떤 상호작용을 고려해야 할지 결정하기가 매우 어렵다. 이러한 문제에 접근하는 몇가지 방법에 대해 알아보자.\n",
    "1. 어떤 문제에서는 사전 지식이나 직관이 이러한 상호작용을 결정하는데 큰 도움이 된다.\n",
    "2. 단계적 선택을 사용해서 다양한 모델들을 걸러낼 수 있다.\n",
    "3. 별점을 부여하는 방식의 회귀방법을 사용하여 자동으로 가능한 상호작용들을 최대한 가려내도록 한다.\n",
    "4. 아마 가장 일반적으로 사용하는 방법은 ***랜덤포레스트***나 ***그레디언트 부스팅 트리*** 같은 ***트리모델***일 것이다. 이러한 모델들은 자동으로 최적의 상호작용 항들을 걸러낸다.\n",
    "\n",
    "##### 주요 개념\n",
    "1. 예측변수들 사이의 상관성 때문에 다중선형회귀에서 계수들을 해석할 때는 주의해야 한다.\n",
    "2. 다중공선성은 회귀방정식을 피팅할 때, 수치 불안정성을 유발할 수 있다.\n",
    "3. 교란변수란 모델에서 생략된 중요한 예측변수를 의미하며. 이에 따라 실제로 관계가 없는데 허위로 있는 것처럼 회귀 결과가 나올 수 있다.\n",
    "4. 변수와 결과가 서로 의존적일 때 두 변수 사이의 상호작용을 고려할 필요가 있다."
   ]
  },
  {
   "cell_type": "markdown",
   "metadata": {},
   "source": [
    "# 4-6 회귀진단\n",
    "\n",
    "설명을 위한 모델링에서는 앞서 설명한 여러 측정 지표들을 고려해 매 단계마다 모델이 데이터에 얼마나 적합한지를 평가한다. 대부분은 잔차 분석을 기본으로 한다. \n",
    "\n",
    "이런 단게들은 직접적으로 예측 정확도를 다루는 것은 아니지만 예측 설정에서 중요한 통찰을 줄 수 있다. \n",
    "\n",
    "##### 용어 정리 \n",
    "- 표준화잔차(Standardized Residual):\n",
    "    - 잔차를 표준오차로 나눈 값\n",
    "    \n",
    "    \n",
    "- 특잇값(Outlier):\n",
    "    - 나머지 데이터(혹은 예측값)와 멀리 떨어진 레코드(혹은 출력값)\n",
    "    \n",
    "    \n",
    "- 영향값(Influential Value):\n",
    "    - 있을 때와 없을 때 회귀방정식이 큰 차이를 보이는 값 혹은 레코드\n",
    "    \n",
    "    \n",
    "- 지렛대/레버리지(leverage):\n",
    "    - 회귀식에 한 레코드가 미치는 영향력의 정도(유의어: 햇 값_hat-value)\n",
    "    \n",
    "    \n",
    "- 비정규 잔차(non-normal residual):\n",
    "    - 정규분포를 따르지 않는 잔차는 회귀분석의 요건을 무효로 만들 수 있다. 데이터 과학에서는 별로 중요하게 다루지 않는다.\n",
    "    \n",
    "    \n",
    "- 이분산성(heteroskedasticity): \n",
    "    - 어던 범위 내 출력값의 잔차가 매우 높은 분산을 보이는 경향 (어떤 예측변수를 회귀식이 놓치고 있다는 것을 의미할 수 있음)\n",
    "    \n",
    "    \n",
    "- 편잔차그림(partial residual plot): \n",
    "    - 결과변수와 특정 예측 변수 사이의 관계를 진단하는 그림\n",
    "    \n",
    "    "
   ]
  },
  {
   "cell_type": "markdown",
   "metadata": {},
   "source": [
    "### 4-6-1 특잇값\n",
    "\n",
    "일반적으로 특잇값이라고 부르는 극단값은 대부분의 측정치에서 멀리 벗어난 값을 의미한다. 회귀모형에서도 동일한 문제를 야기할 수 있다. 회귀에서 특잇값은 실제 y값이 예측된 값에서 멀리 떨어져 있는 경우를 말한다.\n",
    "\n",
    "잔차를 표준오차로 나눈 값을 ***표준화잔차***라고 하는데 바로 이 값을 조사해서 특잇값을 발견할 수 있다."
   ]
  },
  {
   "cell_type": "code",
   "execution_count": 27,
   "metadata": {},
   "outputs": [],
   "source": [
    "house_98105 = house.loc[house['ZipCode']==98105]\n",
    "\n",
    "predictors = ['SqFtTotLiving', 'SqFtLot', 'Bathrooms', 'Bedrooms',\n",
    "             'BldgGrade'] \n",
    "outcome = 'AdjSalePrice'\n",
    "\n",
    "house_outlier = sm.OLS(house_98105[outcome], house_98105[predictors].assign(const=1))\n",
    "result_98105 = house_outlier.fit()"
   ]
  },
  {
   "cell_type": "code",
   "execution_count": 28,
   "metadata": {},
   "outputs": [],
   "source": [
    "import statsmodels.api as sm\n",
    "import matplotlib.pyplot as plt\n",
    "import statsmodels.formula.api as smf\n",
    "from statsmodels.stats.outliers_influence import OLSInfluence"
   ]
  },
  {
   "cell_type": "code",
   "execution_count": 29,
   "metadata": {},
   "outputs": [
    {
     "data": {
      "text/plain": [
       "(24333, -4.326731804078561)"
      ]
     },
     "execution_count": 29,
     "metadata": {},
     "output_type": "execute_result"
    }
   ],
   "source": [
    "influence = OLSInfluence(result_98105)\n",
    "sresiduals = influence.resid_studentized_internal\n",
    "sresiduals.idxmin(), sresiduals.min()"
   ]
  },
  {
   "cell_type": "code",
   "execution_count": 30,
   "metadata": {},
   "outputs": [
    {
     "name": "stdout",
     "output_type": "stream",
     "text": [
      "AdjSalePrice 119748.0\n",
      "SqFtTotLiving    2900\n",
      "SqFtLot          7276\n",
      "Bathrooms           3\n",
      "Bedrooms            6\n",
      "BldgGrade           7\n",
      "Name: 24333, dtype: object\n"
     ]
    }
   ],
   "source": [
    "outlier = house_98105.loc[sresiduals.idxmin(), :]\n",
    "print('AdjSalePrice', outlier[outcome])\n",
    "print(outlier[predictors])"
   ]
  },
  {
   "cell_type": "markdown",
   "metadata": {},
   "source": [
    "### 4-6-2 영향값\n",
    "\n",
    "회귀모형에서 제외됐을 때 모델에 중요한 변화를 가져오는 값을 ***주영향관측값(Influential Observation)***이라고 한다. 회귀분석에서 잔차가 크다고 해서 모두 이런 값이 되는 것은 아니다. \n",
    "\n",
    "분명히 그 데이터 값은 회귀 결과에 큰 영향을 미치지만, 원래 회귀에서 큰 특잇값으로 나타난 것은 아니다. 이 데이터 값은 회귀에 대한 높은 레버리지를 가진 것으로 볼 수 있다. 레버리지를 측정하는 일반적인 척도는 ***햇 값(hat-value)***이다. "
   ]
  },
  {
   "cell_type": "code",
   "execution_count": 31,
   "metadata": {},
   "outputs": [
    {
     "name": "stderr",
     "output_type": "stream",
     "text": [
      "/Users/keemyohaan/opt/anaconda3/envs/NLP/lib/python3.7/site-packages/ipykernel_launcher.py:25: UserWarning: Matplotlib is currently using agg, which is a non-GUI backend, so cannot show the figure.\n"
     ]
    },
    {
     "data": {
      "image/png": "[encoded data removed]",
      "text/plain": [
       "<Figure size 288x288 with 1 Axes>"
      ]
     },
     "metadata": {
      "needs_background": "light"
     },
     "output_type": "display_data"
    }
   ],
   "source": [
    "from scipy.stats import linregress\n",
    "\n",
    "# 랜덤시드 잡고\n",
    "np.random.seed(5)\n",
    "x = np.random.normal(size=25)\n",
    "y = -x / 5 + np.random.normal(size=25)\n",
    "x[0] = 8\n",
    "y[0] = 8\n",
    "\n",
    "def abline(slope, intercept, ax):\n",
    "    \"\"\"Calculate coordinates of a line based on slope and intercept\"\"\"\n",
    "    x_vals = np.array(ax.get_xlim())\n",
    "    return (x_vals, intercept + slope * x_vals)\n",
    "\n",
    "fig, ax = plt.subplots(figsize=(4, 4))\n",
    "ax.scatter(x, y)\n",
    "slope, intercept, _, _, _ = linregress(x, y)\n",
    "ax.plot(*abline(slope, intercept, ax))\n",
    "slope, intercept, _, _, _ = linregress(x[1:], y[1:])\n",
    "ax.plot(*abline(slope, intercept, ax), '--')\n",
    "ax.set_xlim(-2.5, 8.5)\n",
    "ax.set_ylim(-2.5, 8.5)\n",
    "\n",
    "plt.tight_layout()\n",
    "plt.show()"
   ]
  },
  {
   "cell_type": "markdown",
   "metadata": {},
   "source": [
    "또 다른 측정 지표는 ***쿡의 거리(Cook's Distance)***이다.\n",
    "- 레버리지와 잔차의 크기를 합쳐서 영향력을 판단한다.\n",
    "- 경험칙에 따르면 쿡의 거리가 4/(n-P-1)보다 크면 영향력이 높다고 보는 편\n",
    "\n",
    "영향력그림(influence Plot) 또는 거품그림(Bubble Plot)은 표준화잔차, 햇 값, 쿡의 거리를 모두 한 그림에 표현한다. "
   ]
  },
  {
   "cell_type": "code",
   "execution_count": 32,
   "metadata": {},
   "outputs": [
    {
     "data": {
      "text/plain": [
       "Text(0, 0.5, 'studentized residuals')"
      ]
     },
     "execution_count": 32,
     "metadata": {},
     "output_type": "execute_result"
    },
    {
     "data": {
      "image/png": "[encoded data removed]",
      "text/plain": [
       "<Figure size 360x360 with 1 Axes>"
      ]
     },
     "metadata": {
      "needs_background": "light"
     },
     "output_type": "display_data"
    }
   ],
   "source": [
    "influence = OLSInfluence(result_98105)\n",
    "fig, ax = plt.subplots(figsize=(5,5))\n",
    "ax.axhline(-2.5, linestyle='--', color='C1')\n",
    "ax.axhline(2.5, linestyle='--', color = 'C1')\n",
    "\n",
    "ax.scatter(influence.hat_matrix_diag, \n",
    "           influence.resid_studentized_internal,\n",
    "           s=1000 * np.sqrt(influence.cooks_distance[0]),\n",
    "           alpha = 0.5)\n",
    "ax.set_xlabel('hat_values')\n",
    "ax.set_ylabel('studentized residuals')"
   ]
  },
  {
   "cell_type": "markdown",
   "metadata": {},
   "source": [
    "회귀에서 몇몇 데이터포인트가 정말로 영향력을 보임을 알 수 있따. 쿡의 거리는 cooks.distance 함수를 사용해 계산하고 hatvalues 함수를 이용해 회귀진단을 구할 수 있다. \n",
    "\n",
    "햇 값은 x축, 잔차정보는 y축에 위치하면 쿡의 거리에 해당하는 값은 원의크기로 나타낸다."
   ]
  },
  {
   "cell_type": "markdown",
   "metadata": {},
   "source": [
    "### 4-6-3 이분산성, 비정규성, 오차 간 상관\n",
    "\n",
    "통계학자들은 잔차 분포에 상당한 주의를 기울인다. 보통최소제곱추정은 다양한 분포 가정하에서 편향성도 없고 경우에 따라 '최적'이라고 할 수 있는 추정을 제공한다. 즉 대부분의 문제에서 데이터 과학자라면 잔차 분포에 너무 많은 신경을 쓸 필요는 없다.\n",
    "\n",
    "잔차의 분포는 주로 공식적인 통계적 추론(가설검정 및 p값)의 \"유효성\"과 관련이 있으므로 예측 정확도를 중요하게 생각하는 데이터 과학들에게는 별로 중요하지 않다. 오차가 정규 분포를 따른다는 것은 모델이 완전하다는 신호다.\n",
    "\n",
    "오차가 정규분포를 따르지 않는다면 모델에서 뭔가가 누락되었을 수 있음을 의미한다 형식적 추론이 완전히 유효하려면 잔차는 다음의 가정이 필요하다.\n",
    "1. 동일한 분산\n",
    "2. 정규분포\n",
    "3. 서로 독립적\n",
    "\n",
    "데이터 과학자가 신경 쓰는 것 한가지는 잔차에 대한 가정을 기반으로 예상 값에 대한 신뢰구간을 게산하는 방법이다. \\\n",
    "3가지 가정 중 먼저 이분산성은 다양한 범위의 예측값에 따라 잔차의 분산이 일정하지 않은 것을 의미한다.\n",
    "- 이분산성: 잔차의 분산이 일정하지 않다.\n",
    "\n",
    "절대잔차들을 부드럽게 연결하는 선을 분포 그림 위에 쉽게 추가할 수 있다. 이렇게 산점도에서 x축과 y축 변수들 사이의 관계를 부드럽게 연결하는 추세선을 얻기 위해 lowess 메서드(지역적으로 추정한 산점도 평활)을 호출한다.\n"
   ]
  },
  {
   "cell_type": "code",
   "execution_count": 34,
   "metadata": {},
   "outputs": [
    {
     "name": "stderr",
     "output_type": "stream",
     "text": [
      "/Users/keemyohaan/opt/anaconda3/envs/NLP/lib/python3.7/site-packages/seaborn/_decorators.py:43: FutureWarning: Pass the following variables as keyword args: x, y. From version 0.12, the only valid positional argument will be `data`, and passing other arguments without an explicit keyword will result in an error or misinterpretation.\n",
      "  FutureWarning\n",
      "/Users/keemyohaan/opt/anaconda3/envs/NLP/lib/python3.7/site-packages/ipykernel_launcher.py:7: UserWarning: Matplotlib is currently using agg, which is a non-GUI backend, so cannot show the figure.\n",
      "  import sys\n"
     ]
    },
    {
     "data": {
      "image/png": "[encoded data removed]",
      "text/plain": [
       "<Figure size 360x360 with 1 Axes>"
      ]
     },
     "metadata": {
      "needs_background": "light"
     },
     "output_type": "display_data"
    }
   ],
   "source": [
    "fig,ax = plt.subplots(figsize=(5,5))\n",
    "sns.regplot(result_98105.fittedvalues, np.abs(result_98105.resid),\n",
    "            scatter_kws = {'alpha':0.25}, line_kws={'color':'C1'},\n",
    "                                       lowess=True,ax=ax)\n",
    "ax.set_xlabel('predicted')\n",
    "ax.set_ylabel('abs((residual)')\n",
    "plt.show()"
   ]
  },
  {
   "cell_type": "markdown",
   "metadata": {},
   "source": [
    "##### 데이터 과학자들은 이분산성에 관심을 가져야 할까?\n",
    "\n",
    "이분산성은 예측값이 어떤 경우에는 맞고 어떤 경우에는 틀리다는 것을 나타내며,얻은 모델이 불완전하다는 것을 알려준다.\\"
   ]
  },
  {
   "cell_type": "code",
   "execution_count": 37,
   "metadata": {},
   "outputs": [
    {
     "name": "stderr",
     "output_type": "stream",
     "text": [
      "/Users/keemyohaan/opt/anaconda3/envs/NLP/lib/python3.7/site-packages/ipykernel_launcher.py:8: UserWarning: Matplotlib is currently using agg, which is a non-GUI backend, so cannot show the figure.\n",
      "  \n"
     ]
    },
    {
     "data": {
      "image/png": "[encoded data removed]",
      "text/plain": [
       "<Figure size 288x288 with 1 Axes>"
      ]
     },
     "metadata": {
      "needs_background": "light"
     },
     "output_type": "display_data"
    }
   ],
   "source": [
    "fig, ax = plt.subplots(figsize=(4, 4))\n",
    "pd.Series(influence.resid_studentized_internal).hist(ax=ax)\n",
    "ax.set_xlabel('std. residual')\n",
    "ax.set_ylabel('Frequency')\n",
    "\n",
    "plt.title('[그림4-8] 주택 데이터의 회귀모형으로부터 얻은 잔차에 대한 히스토그램')\n",
    "plt.tight_layout()\n",
    "plt.show()"
   ]
  },
  {
   "cell_type": "markdown",
   "metadata": {},
   "source": [
    "오차가 독립적이라는 가정을 점검하기도 한다. 시간과 공간에 따라 데이터를 수집하는 경우 특히 그렇다. 시간과 공간에 따라 데이터를 수집하는 경우 특히 그렇다. 시계열 데이터를 다루는 회귀분석에서 유의미한 자기상관(autocorrelation)이 있는지를 탐지하는데에는 ***더비-왓슨 통계량***을 사용할 수 있다.\n",
    "\n",
    "그렇다면 회귀가 분포 가정 중 한가지만 위반해도 신경 써야 할까?\\\n",
    "데이터 과학에서 가장 중요한 것은 보통 예측정확도이기 때문에, 이분산성에 대한 검토는 그 다음으로 이루어질 수 있다. \n",
    "\n",
    "##### 산점도 평활기\n",
    "회귀분석은 응답변수와 예측변수 간의 관계를 모델링 하는 것이다. 회귀모형을 평가할 때는 두 변수 사이의 관계를 시각적으로 강조하기 위해 ***산점도 평활기***를 사용하는 것이 좋다.\n",
    "\n",
    "예를 들면 [그림 4-7]에서 절대잔차와 예측값 간의 관계를 부드럽게 나타낸 곡선을 통해, 잔차의 분산이 잔차의 값에 의존한다는 것을 쉽게 알 수 있다. 이 경우 ***loess***함수를 사용한다. 이는 일련의 근간별 지역 회귀모형을 구한 후 그것들을 연속적으로 부드럽게 만들어 낸다. "
   ]
  },
  {
   "cell_type": "markdown",
   "metadata": {},
   "source": [
    "### 4-6-4 편잔차그림과 비선형성\n",
    "\n",
    "편잔차그림은 예측 모델이 예측변수와 결과변수 간의 관계를 얼마나 잘 설명하는지 시각화하는 방법이며 기본 개념은 하나의 예측변수와 응답변수 사이의 관계를 모든 다른 예측변수로부터 분리하는 것이다.\n",
    "\n",
    "편잔차는 단일 예측변수를 기반으로 한 예측값과 전체를 고려한 회귀식의 실제 잔차를 결합하여 만든 결과로 볼 수 있다.\n",
    "\n",
    "$$ 편잔차 = 잔차 + \\hat{b}_iX_i$$\n",
    "\n",
    "여기서 $\\hat{b}_i$는 물론 회귀계수의 추정치를 의미한다. \n",
    "\n",
    "편잔차그림에 x축은 예측변수 $X_i$를 그리고 y축은 편잔차를 의미한다.\n",
    "\n"
   ]
  },
  {
   "cell_type": "code",
   "execution_count": 43,
   "metadata": {},
   "outputs": [
    {
     "name": "stderr",
     "output_type": "stream",
     "text": [
      "/Users/keemyohaan/opt/anaconda3/envs/NLP/lib/python3.7/site-packages/ipykernel_launcher.py:7: UserWarning: Matplotlib is currently using agg, which is a non-GUI backend, so cannot show the figure.\n",
      "  import sys\n"
     ]
    },
    {
     "data": {
      "image/png": "[encoded data removed]",
      "text/plain": [
       "<Figure size 360x360 with 1 Axes>"
      ]
     },
     "metadata": {
      "needs_background": "light"
     },
     "output_type": "display_data"
    },
    {
     "data": {
      "image/png": "[encoded data removed]",
      "text/plain": [
       "<Figure size 576x864 with 5 Axes>"
      ]
     },
     "metadata": {
      "needs_background": "light"
     },
     "output_type": "display_data"
    }
   ],
   "source": [
    "### Partial Residual Plots and Nonlinearity\n",
    "\n",
    "fig, ax = plt.subplots(figsize=(5, 5))\n",
    "fig = sm.graphics.plot_ccpr(result_98105, 'SqFtTotLiving', ax=ax)\n",
    "\n",
    "plt.tight_layout()\n",
    "plt.show()\n",
    "\n",
    "fig = plt.figure(figsize=(8, 12))\n",
    "fig = sm.graphics.plot_ccpr_grid(result_98105, fig=fig)"
   ]
  },
  {
   "cell_type": "markdown",
   "metadata": {},
   "source": [
    "##### 주요 개념\n",
    "- 특이점은 데이터 크기가 작을 때 문제를 일으킬 수 있지만 주요 관심사는 데이터에서 문제점을 발견한다든지 이상을 찾아내는 것이다.\n",
    "- 데이터 크기가 작을 때는 단일 레코드(회귀 특잇값 포함)가 회귀방정식에 큰 영향을 미치는 경우도 있다. 하지만 빅데이터에서는 이런 효과가 대부분 사라진다.\n",
    "- 회귀모형을 일반적인 추론(p 값 등)을 위해 사용할 경우 잔차 분포에 대한 특정 가정을 확인해야 한다. 하지만 보통 데이터 과학에서의 잔차의 분포는 그렇게 중요하지 않다.\n",
    "- 편잔차그림을 사용하여 각 회귀 항의 적합성을 정량적으로 평가할 수 있다. 즉 대체 모델에 대한 아이디어를 얻을 수 있다.\n"
   ]
  },
  {
   "cell_type": "code",
   "execution_count": null,
   "metadata": {},
   "outputs": [],
   "source": []
  }
 ],
 "metadata": {
  "kernelspec": {
   "display_name": "Python 3",
   "language": "python",
   "name": "python3"
  },
  "language_info": {
   "codemirror_mode": {
    "name": "ipython",
    "version": 3
   },
   "file_extension": ".py",
   "mimetype": "text/x-python",
   "name": "python",
   "nbconvert_exporter": "python",
   "pygments_lexer": "ipython3",
   "version": "3.7.4"
  }
 },
 "nbformat": 4,
 "nbformat_minor": 4
}
